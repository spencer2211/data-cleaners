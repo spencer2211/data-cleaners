{
 "nbformat": 4,
 "nbformat_minor": 2,
 "metadata": {
  "language_info": {
   "name": "python",
   "codemirror_mode": {
    "name": "ipython",
    "version": 3
   },
   "version": "3.8.2-final"
  },
  "orig_nbformat": 2,
  "file_extension": ".py",
  "mimetype": "text/x-python",
  "name": "python",
  "npconvert_exporter": "python",
  "pygments_lexer": "ipython3",
  "version": 3,
  "kernelspec": {
   "name": "python38264bitcleanersconda12bdbe5c06714ba79670b227fca8f186",
   "display_name": "Python 3.8.2 64-bit ('cleaners': conda)"
  }
 },
 "cells": [
  {
   "cell_type": "code",
   "execution_count": 1,
   "metadata": {},
   "outputs": [
    {
     "output_type": "execute_result",
     "data": {
      "text/plain": "   Province_State Country_Region          Last_Update  Confirmed  Deaths  \\\n0     Ashland, NE             US  2020-02-21T23:23:06       11.0     0.0   \n1      Travis, CA             US  2020-02-21T23:23:06        5.0     0.0   \n2     Chicago, IL             US  2020-02-09T19:03:03        2.0     0.0   \n3    Lackland, TX             US  2020-02-21T23:23:06        2.0     0.0   \n4  San Benito, CA             US  2020-02-03T03:53:02        2.0     0.0   \n\n   Recovered  Lat  Long_ Combined_Key  FIPS Admin2  Active  \n0        0.0  NaN    NaN          NaN   NaN    NaN     NaN  \n1        0.0  NaN    NaN          NaN   NaN    NaN     NaN  \n2        2.0  NaN    NaN          NaN   NaN    NaN     NaN  \n3        0.0  NaN    NaN          NaN   NaN    NaN     NaN  \n4        0.0  NaN    NaN          NaN   NaN    NaN     NaN  ",
      "text/html": "<div>\n<style scoped>\n    .dataframe tbody tr th:only-of-type {\n        vertical-align: middle;\n    }\n\n    .dataframe tbody tr th {\n        vertical-align: top;\n    }\n\n    .dataframe thead th {\n        text-align: right;\n    }\n</style>\n<table border=\"1\" class=\"dataframe\">\n  <thead>\n    <tr style=\"text-align: right;\">\n      <th></th>\n      <th>Province_State</th>\n      <th>Country_Region</th>\n      <th>Last_Update</th>\n      <th>Confirmed</th>\n      <th>Deaths</th>\n      <th>Recovered</th>\n      <th>Lat</th>\n      <th>Long_</th>\n      <th>Combined_Key</th>\n      <th>FIPS</th>\n      <th>Admin2</th>\n      <th>Active</th>\n    </tr>\n  </thead>\n  <tbody>\n    <tr>\n      <th>0</th>\n      <td>Ashland, NE</td>\n      <td>US</td>\n      <td>2020-02-21T23:23:06</td>\n      <td>11.0</td>\n      <td>0.0</td>\n      <td>0.0</td>\n      <td>NaN</td>\n      <td>NaN</td>\n      <td>NaN</td>\n      <td>NaN</td>\n      <td>NaN</td>\n      <td>NaN</td>\n    </tr>\n    <tr>\n      <th>1</th>\n      <td>Travis, CA</td>\n      <td>US</td>\n      <td>2020-02-21T23:23:06</td>\n      <td>5.0</td>\n      <td>0.0</td>\n      <td>0.0</td>\n      <td>NaN</td>\n      <td>NaN</td>\n      <td>NaN</td>\n      <td>NaN</td>\n      <td>NaN</td>\n      <td>NaN</td>\n    </tr>\n    <tr>\n      <th>2</th>\n      <td>Chicago, IL</td>\n      <td>US</td>\n      <td>2020-02-09T19:03:03</td>\n      <td>2.0</td>\n      <td>0.0</td>\n      <td>2.0</td>\n      <td>NaN</td>\n      <td>NaN</td>\n      <td>NaN</td>\n      <td>NaN</td>\n      <td>NaN</td>\n      <td>NaN</td>\n    </tr>\n    <tr>\n      <th>3</th>\n      <td>Lackland, TX</td>\n      <td>US</td>\n      <td>2020-02-21T23:23:06</td>\n      <td>2.0</td>\n      <td>0.0</td>\n      <td>0.0</td>\n      <td>NaN</td>\n      <td>NaN</td>\n      <td>NaN</td>\n      <td>NaN</td>\n      <td>NaN</td>\n      <td>NaN</td>\n    </tr>\n    <tr>\n      <th>4</th>\n      <td>San Benito, CA</td>\n      <td>US</td>\n      <td>2020-02-03T03:53:02</td>\n      <td>2.0</td>\n      <td>0.0</td>\n      <td>0.0</td>\n      <td>NaN</td>\n      <td>NaN</td>\n      <td>NaN</td>\n      <td>NaN</td>\n      <td>NaN</td>\n      <td>NaN</td>\n    </tr>\n  </tbody>\n</table>\n</div>"
     },
     "metadata": {},
     "execution_count": 1
    }
   ],
   "source": [
    "import glob\n",
    "\n",
    "import chardet\n",
    "import numpy as np\n",
    "import pandas as pd\n",
    "# import zipfile\n",
    "\n",
    "from cleannumbers import CleanNumbers as cn\n",
    "from cleantext import CleanText as ct\n",
    "\n",
    "file_list = glob.glob('../../COVID-19-ALL/csse_covid_19_data/csse_covid_19_daily_reports/*.csv', recursive=True)\n",
    "\n",
    "df = pd.DataFrame()\n",
    "for f in file_list:\n",
    "    rawdata = open(f, 'rb').read()\n",
    "    result = chardet.detect(rawdata)\n",
    "    charenc = result['encoding']\n",
    "\n",
    "    df_temp = pd.read_csv(f, engine='python', delimiter=',', quotechar='\"', encoding=charenc, infer_datetime_format=True)\n",
    "    \n",
    "        # if \"Last Update\" in df_temp.columns:\n",
    "    df_temp.rename(columns={'Last Update': 'Last_Update', 'Latitude': 'Lat', 'Longitude': 'Long_', 'Province/State': 'Province_State', 'Country/Region': 'Country_Region'}, inplace=True)\n",
    "    cols = df_temp.columns\n",
    "    # if len(cols) == 1:\n",
    "    #     print(df_temp.head())\n",
    "    if (\"Lat\" or \"Long_\") not in cols:\n",
    "        df_temp['Lat'] = np.nan\n",
    "        df_temp['Long_'] = np.nan\n",
    "    if \"Combined_Key\" not in cols:\n",
    "        df_temp['Combined_Key'] = np.nan\n",
    "    \n",
    "    df_temp = df_temp[df_temp['Country_Region']=='US']\n",
    "\n",
    "    df = df.append(df_temp, ignore_index=True)\n",
    "\n",
    "df.head()"
   ]
  },
  {
   "cell_type": "code",
   "execution_count": 55,
   "metadata": {},
   "outputs": [],
   "source": [
    "df['Last_Update'] = pd.to_datetime(df['Last_Update'], utc=True)\n",
    "df['Last_Update'] = df['Last_Update'].dt.date\n",
    "# a = cn(df)\n",
    "# x = a.clean_numbers(verbose=True, rpl_empty_with='zeros', drop_na=False, exceptions=['Lat', 'Long_', 'FIPS'])\n",
    "# ints = [\"Confirmed\", \"Deaths\", \"Recovered\", \"FIPS\"]\n",
    "for c in  ints:\n",
    "    df[c].fillna(0, inplace=True)\n",
    "    df[c] = df[c].astype(np.int64)\n",
    "\n",
    "df= df.drop_duplicates()\n",
    "\n",
    "# start_date = pd.to_datetime(['2020-03-02']).date\n",
    "# end_date = pd.to_datetime(['2020-03-02']).date\n",
    "# mask = (df['Last_Update'] >= start_date[0]) & (df['Last_Update'] <= end_date[0])\n",
    "# df1 = df.loc[mask]\n",
    "# print(df1.Confirmed.sum())\n",
    "# df1"
   ]
  },
  {
   "cell_type": "code",
   "execution_count": 56,
   "metadata": {},
   "outputs": [],
   "source": [
    "save_path = os.getcwd()\n",
    "save_file = os.path.join(save_path, 'covid-us-aggd.csv')\n",
    "\n",
    "df.to_csv(save_file, index=False)"
   ]
  }
 ]
}