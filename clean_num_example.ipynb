{
 "cells": [
  {
   "cell_type": "code",
   "execution_count": 1,
   "metadata": {},
   "outputs": [
    {
     "output_type": "stream",
     "name": "stdout",
     "text": "['../datasets/sudeste.csv.zip']\n<class 'pandas.core.frame.DataFrame'>\nRangeIndex: 1000 entries, 0 to 999\nData columns (total 31 columns):\n #   Column  Non-Null Count  Dtype  \n---  ------  --------------  -----  \n 0   wsid    1000 non-null   int64  \n 1   wsnm    1000 non-null   object \n 2   elvt    1000 non-null   float64\n 3   lat     1000 non-null   float64\n 4   lon     1000 non-null   float64\n 5   inme    1000 non-null   object \n 6   city    1000 non-null   object \n 7   prov    1000 non-null   object \n 8   mdct    1000 non-null   object \n 9   date    1000 non-null   object \n 10  yr      1000 non-null   int64  \n 11  mo      1000 non-null   int64  \n 12  da      1000 non-null   int64  \n 13  hr      1000 non-null   int64  \n 14  prcp    389 non-null    float64\n 15  stp     1000 non-null   float64\n 16  smax    1000 non-null   float64\n 17  smin    1000 non-null   float64\n 18  gbrd    581 non-null    float64\n 19  temp    1000 non-null   float64\n 20  dewp    1000 non-null   float64\n 21  tmax    1000 non-null   float64\n 22  dmax    1000 non-null   float64\n 23  tmin    1000 non-null   float64\n 24  dmin    1000 non-null   float64\n 25  hmdy    1000 non-null   float64\n 26  hmax    1000 non-null   float64\n 27  hmin    1000 non-null   float64\n 28  wdsp    969 non-null    float64\n 29  wdct    1000 non-null   float64\n 30  gust    996 non-null    float64\ndtypes: float64(20), int64(5), object(6)\nmemory usage: 242.3+ KB\n"
    }
   ],
   "source": [
    "import numpy as np\n",
    "import pandas as pd\n",
    "import zipfile\n",
    "from cleantext import CleanText as ct\n",
    "from cleannumbers import CleanNumbers as cn\n",
    "\n",
    "import glob\n",
    "\n",
    "data_file = glob.glob('../**/sudeste.csv.zip', recursive=True)\n",
    "print(data_file)\n",
    "\n",
    "data = pd.read_csv(data_file[0],\n",
    "                  compression='zip',\n",
    "                  engine='python',\n",
    "                  index_col=False,\n",
    "                  nrows=1000)\n",
    "\n",
    "data.info()"
   ]
  },
  {
   "cell_type": "code",
   "execution_count": 5,
   "metadata": {},
   "outputs": [
    {
     "output_type": "stream",
     "name": "stdout",
     "text": "Mem. usage decreased to 0.12 MB (50.8 % reduction) for a savings of 0.12 MB\n"
    },
    {
     "output_type": "execute_result",
     "data": {
      "text/plain": "     wsid         wsnm  elvt       lat        lon  inme         city prov  \\\n0     178  SÃO GONÇALO   237 -6.835777 -38.311584  A333  São Gonçalo   RJ   \n1     178  SÃO GONÇALO   237 -6.835777 -38.311584  A333  São Gonçalo   RJ   \n2     178  SÃO GONÇALO   237 -6.835777 -38.311584  A333  São Gonçalo   RJ   \n3     178  SÃO GONÇALO   237 -6.835777 -38.311584  A333  São Gonçalo   RJ   \n4     178  SÃO GONÇALO   237 -6.835777 -38.311584  A333  São Gonçalo   RJ   \n..    ...          ...   ...       ...        ...   ...          ...  ...   \n995   178  SÃO GONÇALO   237 -6.835777 -38.311584  A333  São Gonçalo   RJ   \n996   178  SÃO GONÇALO   237 -6.835777 -38.311584  A333  São Gonçalo   RJ   \n997   178  SÃO GONÇALO   237 -6.835777 -38.311584  A333  São Gonçalo   RJ   \n998   178  SÃO GONÇALO   237 -6.835777 -38.311584  A333  São Gonçalo   RJ   \n999   178  SÃO GONÇALO   237 -6.835777 -38.311584  A333  São Gonçalo   RJ   \n\n                    mdct        date  ...       tmax       dmax       tmin  \\\n0    2007-11-06 00:00:00  2007-11-06  ...  29.700001  16.799999  25.500000   \n1    2007-11-06 01:00:00  2007-11-06  ...  29.900000  13.600000  29.000000   \n2    2007-11-06 02:00:00  2007-11-06  ...  29.000000  14.000000  27.400000   \n3    2007-11-06 03:00:00  2007-11-06  ...  27.400000  16.900000  25.799999   \n4    2007-11-06 04:00:00  2007-11-06  ...  26.299999  17.000000  25.299999   \n..                   ...         ...  ...        ...        ...        ...   \n995  2007-12-17 11:00:00  2007-12-17  ...  27.299999  20.400000  24.799999   \n996  2007-12-17 12:00:00  2007-12-17  ...  29.000000  20.100000  26.900000   \n997  2007-12-17 13:00:00  2007-12-17  ...  30.600000  19.299999  28.200001   \n998  2007-12-17 14:00:00  2007-12-17  ...  31.799999  19.200001  29.000000   \n999  2007-12-17 15:00:00  2007-12-17  ...  32.400002  17.900000  30.500000   \n\n          dmin  hmdy  hmax  hmin  wdsp  wdct  gust  \n0    10.800000    35    58    32   3.2   101   6.5  \n1    12.200000    39    39    35   3.6    94   6.4  \n2    13.600000    44    44    39   2.5    93   6.9  \n3    14.100000    58    58    44   1.7    96   5.8  \n4    16.400000    57    58    56   3.1   110   7.5  \n..         ...   ...   ...   ...   ...   ...   ...  \n995  19.100000    65    76    63   1.5    87   4.4  \n996  18.100000    55    65    53   2.9    83   5.2  \n997  17.799999    53    57    48   2.3    86   6.6  \n998  16.000000    43    53    39   3.5    97   7.2  \n999  15.600000    40    44    37   2.8    43   6.6  \n\n[1000 rows x 31 columns]",
      "text/html": "<div>\n<style scoped>\n    .dataframe tbody tr th:only-of-type {\n        vertical-align: middle;\n    }\n\n    .dataframe tbody tr th {\n        vertical-align: top;\n    }\n\n    .dataframe thead th {\n        text-align: right;\n    }\n</style>\n<table border=\"1\" class=\"dataframe\">\n  <thead>\n    <tr style=\"text-align: right;\">\n      <th></th>\n      <th>wsid</th>\n      <th>wsnm</th>\n      <th>elvt</th>\n      <th>lat</th>\n      <th>lon</th>\n      <th>inme</th>\n      <th>city</th>\n      <th>prov</th>\n      <th>mdct</th>\n      <th>date</th>\n      <th>...</th>\n      <th>tmax</th>\n      <th>dmax</th>\n      <th>tmin</th>\n      <th>dmin</th>\n      <th>hmdy</th>\n      <th>hmax</th>\n      <th>hmin</th>\n      <th>wdsp</th>\n      <th>wdct</th>\n      <th>gust</th>\n    </tr>\n  </thead>\n  <tbody>\n    <tr>\n      <th>0</th>\n      <td>178</td>\n      <td>SÃO GONÇALO</td>\n      <td>237</td>\n      <td>-6.835777</td>\n      <td>-38.311584</td>\n      <td>A333</td>\n      <td>São Gonçalo</td>\n      <td>RJ</td>\n      <td>2007-11-06 00:00:00</td>\n      <td>2007-11-06</td>\n      <td>...</td>\n      <td>29.700001</td>\n      <td>16.799999</td>\n      <td>25.500000</td>\n      <td>10.800000</td>\n      <td>35</td>\n      <td>58</td>\n      <td>32</td>\n      <td>3.2</td>\n      <td>101</td>\n      <td>6.5</td>\n    </tr>\n    <tr>\n      <th>1</th>\n      <td>178</td>\n      <td>SÃO GONÇALO</td>\n      <td>237</td>\n      <td>-6.835777</td>\n      <td>-38.311584</td>\n      <td>A333</td>\n      <td>São Gonçalo</td>\n      <td>RJ</td>\n      <td>2007-11-06 01:00:00</td>\n      <td>2007-11-06</td>\n      <td>...</td>\n      <td>29.900000</td>\n      <td>13.600000</td>\n      <td>29.000000</td>\n      <td>12.200000</td>\n      <td>39</td>\n      <td>39</td>\n      <td>35</td>\n      <td>3.6</td>\n      <td>94</td>\n      <td>6.4</td>\n    </tr>\n    <tr>\n      <th>2</th>\n      <td>178</td>\n      <td>SÃO GONÇALO</td>\n      <td>237</td>\n      <td>-6.835777</td>\n      <td>-38.311584</td>\n      <td>A333</td>\n      <td>São Gonçalo</td>\n      <td>RJ</td>\n      <td>2007-11-06 02:00:00</td>\n      <td>2007-11-06</td>\n      <td>...</td>\n      <td>29.000000</td>\n      <td>14.000000</td>\n      <td>27.400000</td>\n      <td>13.600000</td>\n      <td>44</td>\n      <td>44</td>\n      <td>39</td>\n      <td>2.5</td>\n      <td>93</td>\n      <td>6.9</td>\n    </tr>\n    <tr>\n      <th>3</th>\n      <td>178</td>\n      <td>SÃO GONÇALO</td>\n      <td>237</td>\n      <td>-6.835777</td>\n      <td>-38.311584</td>\n      <td>A333</td>\n      <td>São Gonçalo</td>\n      <td>RJ</td>\n      <td>2007-11-06 03:00:00</td>\n      <td>2007-11-06</td>\n      <td>...</td>\n      <td>27.400000</td>\n      <td>16.900000</td>\n      <td>25.799999</td>\n      <td>14.100000</td>\n      <td>58</td>\n      <td>58</td>\n      <td>44</td>\n      <td>1.7</td>\n      <td>96</td>\n      <td>5.8</td>\n    </tr>\n    <tr>\n      <th>4</th>\n      <td>178</td>\n      <td>SÃO GONÇALO</td>\n      <td>237</td>\n      <td>-6.835777</td>\n      <td>-38.311584</td>\n      <td>A333</td>\n      <td>São Gonçalo</td>\n      <td>RJ</td>\n      <td>2007-11-06 04:00:00</td>\n      <td>2007-11-06</td>\n      <td>...</td>\n      <td>26.299999</td>\n      <td>17.000000</td>\n      <td>25.299999</td>\n      <td>16.400000</td>\n      <td>57</td>\n      <td>58</td>\n      <td>56</td>\n      <td>3.1</td>\n      <td>110</td>\n      <td>7.5</td>\n    </tr>\n    <tr>\n      <th>...</th>\n      <td>...</td>\n      <td>...</td>\n      <td>...</td>\n      <td>...</td>\n      <td>...</td>\n      <td>...</td>\n      <td>...</td>\n      <td>...</td>\n      <td>...</td>\n      <td>...</td>\n      <td>...</td>\n      <td>...</td>\n      <td>...</td>\n      <td>...</td>\n      <td>...</td>\n      <td>...</td>\n      <td>...</td>\n      <td>...</td>\n      <td>...</td>\n      <td>...</td>\n      <td>...</td>\n    </tr>\n    <tr>\n      <th>995</th>\n      <td>178</td>\n      <td>SÃO GONÇALO</td>\n      <td>237</td>\n      <td>-6.835777</td>\n      <td>-38.311584</td>\n      <td>A333</td>\n      <td>São Gonçalo</td>\n      <td>RJ</td>\n      <td>2007-12-17 11:00:00</td>\n      <td>2007-12-17</td>\n      <td>...</td>\n      <td>27.299999</td>\n      <td>20.400000</td>\n      <td>24.799999</td>\n      <td>19.100000</td>\n      <td>65</td>\n      <td>76</td>\n      <td>63</td>\n      <td>1.5</td>\n      <td>87</td>\n      <td>4.4</td>\n    </tr>\n    <tr>\n      <th>996</th>\n      <td>178</td>\n      <td>SÃO GONÇALO</td>\n      <td>237</td>\n      <td>-6.835777</td>\n      <td>-38.311584</td>\n      <td>A333</td>\n      <td>São Gonçalo</td>\n      <td>RJ</td>\n      <td>2007-12-17 12:00:00</td>\n      <td>2007-12-17</td>\n      <td>...</td>\n      <td>29.000000</td>\n      <td>20.100000</td>\n      <td>26.900000</td>\n      <td>18.100000</td>\n      <td>55</td>\n      <td>65</td>\n      <td>53</td>\n      <td>2.9</td>\n      <td>83</td>\n      <td>5.2</td>\n    </tr>\n    <tr>\n      <th>997</th>\n      <td>178</td>\n      <td>SÃO GONÇALO</td>\n      <td>237</td>\n      <td>-6.835777</td>\n      <td>-38.311584</td>\n      <td>A333</td>\n      <td>São Gonçalo</td>\n      <td>RJ</td>\n      <td>2007-12-17 13:00:00</td>\n      <td>2007-12-17</td>\n      <td>...</td>\n      <td>30.600000</td>\n      <td>19.299999</td>\n      <td>28.200001</td>\n      <td>17.799999</td>\n      <td>53</td>\n      <td>57</td>\n      <td>48</td>\n      <td>2.3</td>\n      <td>86</td>\n      <td>6.6</td>\n    </tr>\n    <tr>\n      <th>998</th>\n      <td>178</td>\n      <td>SÃO GONÇALO</td>\n      <td>237</td>\n      <td>-6.835777</td>\n      <td>-38.311584</td>\n      <td>A333</td>\n      <td>São Gonçalo</td>\n      <td>RJ</td>\n      <td>2007-12-17 14:00:00</td>\n      <td>2007-12-17</td>\n      <td>...</td>\n      <td>31.799999</td>\n      <td>19.200001</td>\n      <td>29.000000</td>\n      <td>16.000000</td>\n      <td>43</td>\n      <td>53</td>\n      <td>39</td>\n      <td>3.5</td>\n      <td>97</td>\n      <td>7.2</td>\n    </tr>\n    <tr>\n      <th>999</th>\n      <td>178</td>\n      <td>SÃO GONÇALO</td>\n      <td>237</td>\n      <td>-6.835777</td>\n      <td>-38.311584</td>\n      <td>A333</td>\n      <td>São Gonçalo</td>\n      <td>RJ</td>\n      <td>2007-12-17 15:00:00</td>\n      <td>2007-12-17</td>\n      <td>...</td>\n      <td>32.400002</td>\n      <td>17.900000</td>\n      <td>30.500000</td>\n      <td>15.600000</td>\n      <td>40</td>\n      <td>44</td>\n      <td>37</td>\n      <td>2.8</td>\n      <td>43</td>\n      <td>6.6</td>\n    </tr>\n  </tbody>\n</table>\n<p>1000 rows × 31 columns</p>\n</div>"
     },
     "metadata": {},
     "execution_count": 5
    }
   ],
   "source": [
    "a = ct()\n",
    "d = a.clean_web_text(data)\n",
    "# print(d)\n",
    "\n",
    "b = cn(d)\n",
    "b.clean_numbers(verbose=True)"
   ]
  },
  {
   "cell_type": "code",
   "execution_count": 2,
   "metadata": {
    "tags": [
     "outputPrepend"
    ]
   },
   "outputs": [
    {
     "output_type": "stream",
     "name": "stdout",
     "text": "Mem. usage decreased to 87.74 MB (62.9 % reduction) for a savings of 148.77\n<class 'pandas.core.frame.DataFrame'>\nRangeIndex: 1000000 entries, 0 to 999999\nData columns (total 31 columns):\n #   Column  Non-Null Count    Dtype  \n---  ------  --------------    -----  \n 0   wsid    1000000 non-null  int16  \n 1   wsnm    1000000 non-null  object \n 2   elvt    1000000 non-null  int16  \n 3   lat     1000000 non-null  float16\n 4   lon     1000000 non-null  float16\n 5   inme    1000000 non-null  object \n 6   city    1000000 non-null  object \n 7   prov    1000000 non-null  object \n 8   mdct    1000000 non-null  object \n 9   date    1000000 non-null  object \n 10  yr      1000000 non-null  int16  \n 11  mo      1000000 non-null  int8   \n 12  da      1000000 non-null  int8   \n 13  hr      1000000 non-null  int8   \n 14  prcp    132701 non-null   float16\n 15  stp     1000000 non-null  float16\n 16  smax    1000000 non-null  float16\n 17  smin    1000000 non-null  float16\n 18  gbrd    576669 non-null   float16\n 19  temp    1000000 non-null  float16\n 20  dewp    999987 non-null   float16\n 21  tmax    1000000 non-null  float16\n 22  dmax    999996 non-null   float16\n 23  tmin    1000000 non-null  float16\n 24  dmin    999975 non-null   float16\n 25  hmdy    1000000 non-null  int8   \n 26  hmax    1000000 non-null  int8   \n 27  hmin    1000000 non-null  int8   \n 28  wdsp    978233 non-null   float16\n 29  wdct    1000000 non-null  int16  \n 30  gust    995194 non-null   float16\ndtypes: float16(15), int16(4), int8(6), object(6)\nmemory usage: 87.7+ MB\n"
    }
   ],
   "source": [
    "import decimal\n",
    "from cleannumbers import CleanNumbers as cn\n",
    "\n",
    "a = cn()\n",
    "# d = data.to_dict('records')\n",
    "# f = pd.DataFrame(d)\n",
    "# e = f.tmax.astype(str)\n",
    "# z = pd.to_numeric(e, downcast='integer')\n",
    "\n",
    "# test = pd.Series(['1.0', '2.0', '3point0'])\n",
    "# test = pd.to_numeric(test, errors='ignore')\n",
    "# test\n",
    "\n",
    "\n",
    "\n",
    "# def is_number(s):\n",
    "#     try:\n",
    "#         float(s)\n",
    "#         return True\n",
    "#     except ValueError:\n",
    "#         pass\n",
    " \n",
    "#     try:\n",
    "#         import unicodedata\n",
    "#         unicodedata.numeric(s)\n",
    "#         return True\n",
    "#     except (TypeError, ValueError):\n",
    "#         pass\n",
    "\n",
    "#     return False\n",
    "\n",
    "# test = estr.apply(lambda x: is_number(x)).all()\n",
    "\n",
    "# if test:\n",
    "#     print('here')\n",
    "#     estr = estr.astype(np.float64)\n",
    "# else:\n",
    "#     print('fuck\n",
    "\n",
    "g = a.clean_numbers(data, verbose=True)\n",
    "g.info()\n",
    "# pd.to_numeric(f.tmax, downcast='integer')\n",
    ""
   ]
  },
  {
   "cell_type": "code",
   "execution_count": 16,
   "metadata": {},
   "outputs": [
    {
     "output_type": "stream",
     "name": "stdout",
     "text": "<class 'pandas.core.frame.DataFrame'>\nRangeIndex: 100000 entries, 0 to 99999\nData columns (total 31 columns):\n #   Column  Non-Null Count   Dtype  \n---  ------  --------------   -----  \n 0   wsid    100000 non-null  int64  \n 1   wsnm    100000 non-null  object \n 2   elvt    100000 non-null  float64\n 3   lat     100000 non-null  float64\n 4   lon     100000 non-null  float64\n 5   inme    100000 non-null  object \n 6   city    100000 non-null  object \n 7   prov    100000 non-null  object \n 8   mdct    100000 non-null  object \n 9   date    100000 non-null  object \n 10  yr      100000 non-null  int64  \n 11  mo      100000 non-null  int64  \n 12  da      100000 non-null  int64  \n 13  hr      100000 non-null  int64  \n 14  prcp    14882 non-null   float64\n 15  stp     100000 non-null  float64\n 16  smax    100000 non-null  float64\n 17  smin    100000 non-null  float64\n 18  gbrd    58027 non-null   float64\n 19  temp    100000 non-null  float64\n 20  dewp    100000 non-null  float64\n 21  tmax    100000 non-null  float64\n 22  dmax    100000 non-null  float64\n 23  tmin    100000 non-null  float64\n 24  dmin    100000 non-null  float64\n 25  hmdy    100000 non-null  float64\n 26  hmax    100000 non-null  float64\n 27  hmin    100000 non-null  float64\n 28  wdsp    89867 non-null   float64\n 29  wdct    100000 non-null  float64\n 30  gust    97494 non-null   float64\ndtypes: float64(20), int64(5), object(6)\nmemory usage: 23.7+ MB\n"
    }
   ],
   "source": [
    "s = pd.Series([1, 2.1, 3.333, ''])\n",
    "s.replace('', np.nan, inplace=True)\n",
    "s_avg = s.mean()\n",
    "s.fillna(s_avg, inplace=True, downcast='infer')\n",
    "\n"
   ]
  }
 ],
 "metadata": {
  "language_info": {
   "name": "python",
   "codemirror_mode": {
    "name": "ipython",
    "version": 3
   },
   "version": "3.8.2-final"
  },
  "orig_nbformat": 2,
  "file_extension": ".py",
  "mimetype": "text/x-python",
  "name": "python",
  "npconvert_exporter": "python",
  "pygments_lexer": "ipython3",
  "version": 3,
  "kernelspec": {
   "name": "python3",
   "display_name": "Python 3"
  }
 },
 "nbformat": 4,
 "nbformat_minor": 2
}