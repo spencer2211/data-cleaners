{
 "nbformat": 4,
 "nbformat_minor": 2,
 "metadata": {
  "language_info": {
   "name": "python",
   "codemirror_mode": {
    "name": "ipython",
    "version": 3
   },
   "version": "3.8.2-final"
  },
  "orig_nbformat": 2,
  "file_extension": ".py",
  "mimetype": "text/x-python",
  "name": "python",
  "npconvert_exporter": "python",
  "pygments_lexer": "ipython3",
  "version": 3,
  "kernelspec": {
   "name": "python3",
   "display_name": "Python 3"
  }
 },
 "cells": [
  {
   "cell_type": "code",
   "execution_count": 1,
   "metadata": {},
   "outputs": [
    {
     "output_type": "stream",
     "name": "stdout",
     "text": "['../datasets/sudeste.csv.zip']\n<class 'pandas.core.frame.DataFrame'>\nRangeIndex: 1000000 entries, 0 to 999999\nData columns (total 31 columns):\n #   Column  Non-Null Count    Dtype  \n---  ------  --------------    -----  \n 0   wsid    1000000 non-null  int64  \n 1   wsnm    1000000 non-null  object \n 2   elvt    1000000 non-null  float64\n 3   lat     1000000 non-null  float64\n 4   lon     1000000 non-null  float64\n 5   inme    1000000 non-null  object \n 6   city    1000000 non-null  object \n 7   prov    1000000 non-null  object \n 8   mdct    1000000 non-null  object \n 9   date    1000000 non-null  object \n 10  yr      1000000 non-null  int64  \n 11  mo      1000000 non-null  int64  \n 12  da      1000000 non-null  int64  \n 13  hr      1000000 non-null  int64  \n 14  prcp    132701 non-null   float64\n 15  stp     1000000 non-null  float64\n 16  smax    1000000 non-null  float64\n 17  smin    1000000 non-null  float64\n 18  gbrd    576669 non-null   float64\n 19  temp    1000000 non-null  float64\n 20  dewp    999987 non-null   float64\n 21  tmax    1000000 non-null  float64\n 22  dmax    999996 non-null   float64\n 23  tmin    1000000 non-null  float64\n 24  dmin    999975 non-null   float64\n 25  hmdy    1000000 non-null  float64\n 26  hmax    1000000 non-null  float64\n 27  hmin    1000000 non-null  float64\n 28  wdsp    978233 non-null   float64\n 29  wdct    1000000 non-null  float64\n 30  gust    995194 non-null   float64\ndtypes: float64(20), int64(5), object(6)\nmemory usage: 236.5+ MB\n"
    }
   ],
   "source": [
    "import numpy as np\n",
    "import pandas as pd\n",
    "import zipfile\n",
    "from cleantext import CleanText as ct\n",
    "\n",
    "import glob\n",
    "\n",
    "data_file = glob.glob('../**/sudeste.csv.zip', recursive=True)\n",
    "print(data_file)\n",
    "\n",
    "data = pd.read_csv(data_file[0],\n",
    "                  compression='zip',\n",
    "                  engine='python',\n",
    "                  index_col=False,\n",
    "                  nrows=1000000)\n",
    "\n",
    "data.info()"
   ]
  },
  {
   "cell_type": "code",
   "execution_count": 2,
   "metadata": {
    "tags": [
     "outputPrepend"
    ]
   },
   "outputs": [
    {
     "output_type": "stream",
     "name": "stdout",
     "text": "Mem. usage decreased to 87.74 MB (62.9 % reduction) for a savings of 148.77\n<class 'pandas.core.frame.DataFrame'>\nRangeIndex: 1000000 entries, 0 to 999999\nData columns (total 31 columns):\n #   Column  Non-Null Count    Dtype  \n---  ------  --------------    -----  \n 0   wsid    1000000 non-null  int16  \n 1   wsnm    1000000 non-null  object \n 2   elvt    1000000 non-null  int16  \n 3   lat     1000000 non-null  float16\n 4   lon     1000000 non-null  float16\n 5   inme    1000000 non-null  object \n 6   city    1000000 non-null  object \n 7   prov    1000000 non-null  object \n 8   mdct    1000000 non-null  object \n 9   date    1000000 non-null  object \n 10  yr      1000000 non-null  int16  \n 11  mo      1000000 non-null  int8   \n 12  da      1000000 non-null  int8   \n 13  hr      1000000 non-null  int8   \n 14  prcp    132701 non-null   float16\n 15  stp     1000000 non-null  float16\n 16  smax    1000000 non-null  float16\n 17  smin    1000000 non-null  float16\n 18  gbrd    576669 non-null   float16\n 19  temp    1000000 non-null  float16\n 20  dewp    999987 non-null   float16\n 21  tmax    1000000 non-null  float16\n 22  dmax    999996 non-null   float16\n 23  tmin    1000000 non-null  float16\n 24  dmin    999975 non-null   float16\n 25  hmdy    1000000 non-null  int8   \n 26  hmax    1000000 non-null  int8   \n 27  hmin    1000000 non-null  int8   \n 28  wdsp    978233 non-null   float16\n 29  wdct    1000000 non-null  int16  \n 30  gust    995194 non-null   float16\ndtypes: float16(15), int16(4), int8(6), object(6)\nmemory usage: 87.7+ MB\n"
    }
   ],
   "source": [
    "import decimal\n",
    "from cleannumbers import CleanNumbers as cn\n",
    "\n",
    "a = cn()\n",
    "# d = data.to_dict('records')\n",
    "# f = pd.DataFrame(d)\n",
    "# e = f.tmax.astype(str)\n",
    "# z = pd.to_numeric(e, downcast='integer')\n",
    "\n",
    "# test = pd.Series(['1.0', '2.0', '3point0'])\n",
    "# test = pd.to_numeric(test, errors='ignore')\n",
    "# test\n",
    "\n",
    "\n",
    "\n",
    "# def is_number(s):\n",
    "#     try:\n",
    "#         float(s)\n",
    "#         return True\n",
    "#     except ValueError:\n",
    "#         pass\n",
    " \n",
    "#     try:\n",
    "#         import unicodedata\n",
    "#         unicodedata.numeric(s)\n",
    "#         return True\n",
    "#     except (TypeError, ValueError):\n",
    "#         pass\n",
    "\n",
    "#     return False\n",
    "\n",
    "# test = estr.apply(lambda x: is_number(x)).all()\n",
    "\n",
    "# if test:\n",
    "#     print('here')\n",
    "#     estr = estr.astype(np.float64)\n",
    "# else:\n",
    "#     print('fuck\n",
    "\n",
    "g = a.clean_numbers(data, verbose=True)\n",
    "g.info()\n",
    "# pd.to_numeric(f.tmax, downcast='integer')\n",
    ""
   ]
  },
  {
   "cell_type": "code",
   "execution_count": 16,
   "metadata": {},
   "outputs": [
    {
     "output_type": "stream",
     "name": "stdout",
     "text": "<class 'pandas.core.frame.DataFrame'>\nRangeIndex: 100000 entries, 0 to 99999\nData columns (total 31 columns):\n #   Column  Non-Null Count   Dtype  \n---  ------  --------------   -----  \n 0   wsid    100000 non-null  int64  \n 1   wsnm    100000 non-null  object \n 2   elvt    100000 non-null  float64\n 3   lat     100000 non-null  float64\n 4   lon     100000 non-null  float64\n 5   inme    100000 non-null  object \n 6   city    100000 non-null  object \n 7   prov    100000 non-null  object \n 8   mdct    100000 non-null  object \n 9   date    100000 non-null  object \n 10  yr      100000 non-null  int64  \n 11  mo      100000 non-null  int64  \n 12  da      100000 non-null  int64  \n 13  hr      100000 non-null  int64  \n 14  prcp    14882 non-null   float64\n 15  stp     100000 non-null  float64\n 16  smax    100000 non-null  float64\n 17  smin    100000 non-null  float64\n 18  gbrd    58027 non-null   float64\n 19  temp    100000 non-null  float64\n 20  dewp    100000 non-null  float64\n 21  tmax    100000 non-null  float64\n 22  dmax    100000 non-null  float64\n 23  tmin    100000 non-null  float64\n 24  dmin    100000 non-null  float64\n 25  hmdy    100000 non-null  float64\n 26  hmax    100000 non-null  float64\n 27  hmin    100000 non-null  float64\n 28  wdsp    89867 non-null   float64\n 29  wdct    100000 non-null  float64\n 30  gust    97494 non-null   float64\ndtypes: float64(20), int64(5), object(6)\nmemory usage: 23.7+ MB\n"
    }
   ],
   "source": [
    "s = pd.Series([1, 2.1, 3.333, ''])\n",
    "s.replace('', np.nan, inplace=True)\n",
    "s_avg = s.mean()\n",
    "s.fillna(s_avg, inplace=True, downcast='infer')\n",
    "\n"
   ]
  }
 ]
}