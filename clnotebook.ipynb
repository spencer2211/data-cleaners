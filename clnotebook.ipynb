{
 "nbformat": 4,
 "nbformat_minor": 2,
 "metadata": {
  "language_info": {
   "name": "python",
   "codemirror_mode": {
    "name": "ipython",
    "version": 3
   },
   "version": "3.8.2-final"
  },
  "orig_nbformat": 2,
  "file_extension": ".py",
  "mimetype": "text/x-python",
  "name": "python",
  "npconvert_exporter": "python",
  "pygments_lexer": "ipython3",
  "version": 3,
  "kernelspec": {
   "name": "python38264bitcleanersconda12bdbe5c06714ba79670b227fca8f186",
   "display_name": "Python 3.8.2 64-bit ('cleaners': conda)"
  }
 },
 "cells": [
  {
   "cell_type": "code",
   "execution_count": null,
   "metadata": {},
   "outputs": [],
   "source": [
    "import numpy as np\n",
    "import pandas as pd\n",
    "import zipfile\n",
    "from cleannumbers import CleanNumbers as cn\n",
    "from cleantext import CleanText as ct\n",
    "\n",
    "import glob\n",
    "\n",
    "data_file = glob.glob('../**/sudeste.csv.zip', recursive=True)\n",
    "data_f = pd.read_csv(data_file[0], compression='zip', engine='python', index_col=False, nrows=1000)\n",
    "# b = ct()\n",
    "# z = b.clean_web_text(data_f)\n",
    "a = cn(data_f)\n",
    "x = a.clean_numbers(verbose=True, rpl_empty_with='median', drop_na=False, exceptions=None)\n",
    "x.head()"
   ]
  },
  {
   "cell_type": "code",
   "execution_count": null,
   "metadata": {},
   "outputs": [],
   "source": [
    "from cleantext import CleanText as ct\n",
    "from cleannumbers import CleanNumbers as cn\n",
    "\n",
    "# a = ct()\n",
    "b = ct().clean_web_text()\n",
    "c = cn(b)\n",
    "d = c.clean_numbers(verbose=True, rpl_empty_with='mean',\n",
    "                    drop_na=False, exceptions=None)\n",
    "help(cn._whole_check)"
   ]
  },
  {
   "cell_type": "code",
   "execution_count": 1,
   "metadata": {},
   "outputs": [
    {
     "output_type": "stream",
     "name": "stdout",
     "text": "Mem. usage decreased to 7.68 MB (19.6 % reduction) for a savings of 1.88 MB\n"
    }
   ],
   "source": [
    "import numpy as np\n",
    "import pandas as pd\n",
    "import zipfile\n",
    "from cleannumbers import CleanNumbers as cn\n",
    "from cleantext import CleanText as ct\n",
    "\n",
    "import glob\n",
    "\n",
    "data_file = glob.glob('../../COVID-19-ALL/csse_covid_19_data/csse_covid_19_daily_reports/*.csv', recursive=True)\n",
    "\n",
    "df = pd.DataFrame()\n",
    "for f in data_file:\n",
    "    df_temp = pd.read_csv(f, engine='python', index_col=False)\n",
    "    if \"Last Update\" in df_temp.columns:\n",
    "        df_temp.rename(columns={'Last Update': 'Last_Update', 'Latitude': 'Lat', 'Longitude': 'Long_', 'Province/State': 'Province_State', 'Country/Region': 'Country_Region'}, inplace=True)\n",
    "    df = df.append(df_temp)\n",
    "\n",
    "df['Last_Update'] = pd.to_datetime(df['Last_Update'],errors='raise', utc=True, infer_datetime_format=True)\n",
    "\n",
    "a = cn(df)\n",
    "x = a.clean_numbers(verbose=True, rpl_empty_with='zeros', drop_na=False, exceptions=['Lat', 'Long_', 'FIPS'])"
   ]
  },
  {
   "cell_type": "code",
   "execution_count": 2,
   "metadata": {},
   "outputs": [
    {
     "output_type": "execute_result",
     "data": {
      "text/plain": "  Province_State  Country_Region  Last_Update  Confirmed  Deaths  Recovered  \\\n0          Hubei  Mainland China          NaN      62662    2144      11881   \n1      Guangdong  Mainland China          NaN       1333       5        690   \n2          Henan  Mainland China          NaN       1267      19        736   \n3       Zhejiang  Mainland China          NaN       1203       1        679   \n4          Hunan  Mainland China          NaN       1011       4        661   \n\n   Lat  Long_  FIPS Admin2  Active Combined_Key Province/State  \n0  NaN    NaN   NaN    NaN       0          NaN            NaN  \n1  NaN    NaN   NaN    NaN       0          NaN            NaN  \n2  NaN    NaN   NaN    NaN       0          NaN            NaN  \n3  NaN    NaN   NaN    NaN       0          NaN            NaN  \n4  NaN    NaN   NaN    NaN       0          NaN            NaN  ",
      "text/html": "<div>\n<style scoped>\n    .dataframe tbody tr th:only-of-type {\n        vertical-align: middle;\n    }\n\n    .dataframe tbody tr th {\n        vertical-align: top;\n    }\n\n    .dataframe thead th {\n        text-align: right;\n    }\n</style>\n<table border=\"1\" class=\"dataframe\">\n  <thead>\n    <tr style=\"text-align: right;\">\n      <th></th>\n      <th>Province_State</th>\n      <th>Country_Region</th>\n      <th>Last_Update</th>\n      <th>Confirmed</th>\n      <th>Deaths</th>\n      <th>Recovered</th>\n      <th>Lat</th>\n      <th>Long_</th>\n      <th>FIPS</th>\n      <th>Admin2</th>\n      <th>Active</th>\n      <th>Combined_Key</th>\n      <th>Province/State</th>\n    </tr>\n  </thead>\n  <tbody>\n    <tr>\n      <th>0</th>\n      <td>Hubei</td>\n      <td>Mainland China</td>\n      <td>NaN</td>\n      <td>62662</td>\n      <td>2144</td>\n      <td>11881</td>\n      <td>NaN</td>\n      <td>NaN</td>\n      <td>NaN</td>\n      <td>NaN</td>\n      <td>0</td>\n      <td>NaN</td>\n      <td>NaN</td>\n    </tr>\n    <tr>\n      <th>1</th>\n      <td>Guangdong</td>\n      <td>Mainland China</td>\n      <td>NaN</td>\n      <td>1333</td>\n      <td>5</td>\n      <td>690</td>\n      <td>NaN</td>\n      <td>NaN</td>\n      <td>NaN</td>\n      <td>NaN</td>\n      <td>0</td>\n      <td>NaN</td>\n      <td>NaN</td>\n    </tr>\n    <tr>\n      <th>2</th>\n      <td>Henan</td>\n      <td>Mainland China</td>\n      <td>NaN</td>\n      <td>1267</td>\n      <td>19</td>\n      <td>736</td>\n      <td>NaN</td>\n      <td>NaN</td>\n      <td>NaN</td>\n      <td>NaN</td>\n      <td>0</td>\n      <td>NaN</td>\n      <td>NaN</td>\n    </tr>\n    <tr>\n      <th>3</th>\n      <td>Zhejiang</td>\n      <td>Mainland China</td>\n      <td>NaN</td>\n      <td>1203</td>\n      <td>1</td>\n      <td>679</td>\n      <td>NaN</td>\n      <td>NaN</td>\n      <td>NaN</td>\n      <td>NaN</td>\n      <td>0</td>\n      <td>NaN</td>\n      <td>NaN</td>\n    </tr>\n    <tr>\n      <th>4</th>\n      <td>Hunan</td>\n      <td>Mainland China</td>\n      <td>NaN</td>\n      <td>1011</td>\n      <td>4</td>\n      <td>661</td>\n      <td>NaN</td>\n      <td>NaN</td>\n      <td>NaN</td>\n      <td>NaN</td>\n      <td>0</td>\n      <td>NaN</td>\n      <td>NaN</td>\n    </tr>\n  </tbody>\n</table>\n</div>"
     },
     "metadata": {},
     "execution_count": 2
    }
   ],
   "source": [
    "# x.Confirmed = x.Confirmed.astype(np.int64)\n",
    "x.head()"
   ]
  },
  {
   "cell_type": "code",
   "execution_count": null,
   "metadata": {},
   "outputs": [],
   "source": []
  }
 ]
}