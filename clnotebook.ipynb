{
 "nbformat": 4,
 "nbformat_minor": 2,
 "metadata": {
  "language_info": {
   "name": "python",
   "codemirror_mode": {
    "name": "ipython",
    "version": 3
   },
   "version": "3.8.2-final"
  },
  "orig_nbformat": 2,
  "file_extension": ".py",
  "mimetype": "text/x-python",
  "name": "python",
  "npconvert_exporter": "python",
  "pygments_lexer": "ipython3",
  "version": 3,
  "kernelspec": {
   "name": "python38264bitcleanersconda12bdbe5c06714ba79670b227fca8f186",
   "display_name": "Python 3.8.2 64-bit ('cleaners': conda)"
  }
 },
 "cells": [
  {
   "cell_type": "code",
   "execution_count": 13,
   "metadata": {},
   "outputs": [
    {
     "output_type": "stream",
     "name": "stdout",
     "text": "Mem. usage decreased to 0.12 MB (50.8 % reduction) for a savings of 0.12 MB\n"
    },
    {
     "output_type": "execute_result",
     "data": {
      "text/plain": "wsid                    178\nwsnm            SÃO GONÇALO\nelvt                    237\nlat                -6.83578\nlon                -38.3116\ninme                   A333\ncity            São Gonçalo\nprov                     RJ\nmdct    2007-11-06 00:00:00\ndate             2007-11-06\nyr                     2007\nmo                       11\nda                        6\nhr                        0\nprcp                    NaN\nstp                   982.5\nsmax                  982.5\nsmin                  981.3\ngbrd                    NaN\ntemp                   29.3\ndewp                   12.1\ntmax                   29.7\ndmax                   16.8\ntmin                   25.5\ndmin                   10.8\nhmdy                     35\nhmax                     58\nhmin                     32\nwdsp                    3.2\nwdct                    101\ngust                    6.5\nName: 0, dtype: object"
     },
     "metadata": {},
     "execution_count": 13
    }
   ],
   "source": [
    "import numpy as np\n",
    "import pandas as pd\n",
    "import zipfile\n",
    "from cleannumbers import CleanNumbers as cn\n",
    "from cleantext import CleanText as ct\n",
    "\n",
    "import glob\n",
    "\n",
    "data_file = glob.glob('../**/sudeste.csv.zip', recursive=True)\n",
    "data_f = pd.read_csv(data_file[0], compression='zip', engine='python', index_col=False, nrows=1000)\n",
    "# b = ct()\n",
    "# z = b.clean_web_text(data_f)\n",
    "a = cn(data_f)\n",
    "x = a.clean_numbers(verbose=True, rpl_empty_with='median', drop_na=False, exceptions=None)\n",
    "x.iloc[0]"
   ]
  },
  {
   "cell_type": "code",
   "execution_count": null,
   "metadata": {},
   "outputs": [],
   "source": [
    "from cleantext import CleanText as ct\n",
    "from cleannumbers import CleanNumbers as cn\n",
    "\n",
    "# a = ct()\n",
    "b = ct().clean_web_text()\n",
    "c = cn(b)\n",
    "d = c.clean_numbers(verbose=True, rpl_empty_with='mean',\n",
    "                    drop_na=False, exceptions=None)\n",
    "help(cn._whole_check)"
   ]
  },
  {
   "cell_type": "code",
   "execution_count": 1,
   "metadata": {},
   "outputs": [
    {
     "output_type": "execute_result",
     "data": {
      "text/plain": "  Province_State  Country_Region          Last_Update  Confirmed  Deaths  \\\n0          Hubei  Mainland China  2020-02-21T13:03:09    62662.0  2144.0   \n1      Guangdong  Mainland China  2020-02-21T10:13:09     1333.0     5.0   \n2          Henan  Mainland China  2020-02-21T13:43:02     1267.0    19.0   \n3       Zhejiang  Mainland China  2020-02-21T10:23:02     1203.0     1.0   \n4          Hunan  Mainland China  2020-02-21T15:13:07     1011.0     4.0   \n\n   Recovered  Lat  Long_ Combined_Key  FIPS Admin2  Active  \n0    11881.0  NaN    NaN          NaN   NaN    NaN     NaN  \n1      690.0  NaN    NaN          NaN   NaN    NaN     NaN  \n2      736.0  NaN    NaN          NaN   NaN    NaN     NaN  \n3      679.0  NaN    NaN          NaN   NaN    NaN     NaN  \n4      661.0  NaN    NaN          NaN   NaN    NaN     NaN  ",
      "text/html": "<div>\n<style scoped>\n    .dataframe tbody tr th:only-of-type {\n        vertical-align: middle;\n    }\n\n    .dataframe tbody tr th {\n        vertical-align: top;\n    }\n\n    .dataframe thead th {\n        text-align: right;\n    }\n</style>\n<table border=\"1\" class=\"dataframe\">\n  <thead>\n    <tr style=\"text-align: right;\">\n      <th></th>\n      <th>Province_State</th>\n      <th>Country_Region</th>\n      <th>Last_Update</th>\n      <th>Confirmed</th>\n      <th>Deaths</th>\n      <th>Recovered</th>\n      <th>Lat</th>\n      <th>Long_</th>\n      <th>Combined_Key</th>\n      <th>FIPS</th>\n      <th>Admin2</th>\n      <th>Active</th>\n    </tr>\n  </thead>\n  <tbody>\n    <tr>\n      <th>0</th>\n      <td>Hubei</td>\n      <td>Mainland China</td>\n      <td>2020-02-21T13:03:09</td>\n      <td>62662.0</td>\n      <td>2144.0</td>\n      <td>11881.0</td>\n      <td>NaN</td>\n      <td>NaN</td>\n      <td>NaN</td>\n      <td>NaN</td>\n      <td>NaN</td>\n      <td>NaN</td>\n    </tr>\n    <tr>\n      <th>1</th>\n      <td>Guangdong</td>\n      <td>Mainland China</td>\n      <td>2020-02-21T10:13:09</td>\n      <td>1333.0</td>\n      <td>5.0</td>\n      <td>690.0</td>\n      <td>NaN</td>\n      <td>NaN</td>\n      <td>NaN</td>\n      <td>NaN</td>\n      <td>NaN</td>\n      <td>NaN</td>\n    </tr>\n    <tr>\n      <th>2</th>\n      <td>Henan</td>\n      <td>Mainland China</td>\n      <td>2020-02-21T13:43:02</td>\n      <td>1267.0</td>\n      <td>19.0</td>\n      <td>736.0</td>\n      <td>NaN</td>\n      <td>NaN</td>\n      <td>NaN</td>\n      <td>NaN</td>\n      <td>NaN</td>\n      <td>NaN</td>\n    </tr>\n    <tr>\n      <th>3</th>\n      <td>Zhejiang</td>\n      <td>Mainland China</td>\n      <td>2020-02-21T10:23:02</td>\n      <td>1203.0</td>\n      <td>1.0</td>\n      <td>679.0</td>\n      <td>NaN</td>\n      <td>NaN</td>\n      <td>NaN</td>\n      <td>NaN</td>\n      <td>NaN</td>\n      <td>NaN</td>\n    </tr>\n    <tr>\n      <th>4</th>\n      <td>Hunan</td>\n      <td>Mainland China</td>\n      <td>2020-02-21T15:13:07</td>\n      <td>1011.0</td>\n      <td>4.0</td>\n      <td>661.0</td>\n      <td>NaN</td>\n      <td>NaN</td>\n      <td>NaN</td>\n      <td>NaN</td>\n      <td>NaN</td>\n      <td>NaN</td>\n    </tr>\n  </tbody>\n</table>\n</div>"
     },
     "metadata": {},
     "execution_count": 1
    }
   ],
   "source": [
    "import chardet\n",
    "import numpy as np\n",
    "import pandas as pd\n",
    "import zipfile\n",
    "from cleannumbers import CleanNumbers as cn\n",
    "from cleantext import CleanText as ct\n",
    "\n",
    "import glob\n",
    "\n",
    "file_list = glob.glob('../../COVID-19-ALL/csse_covid_19_data/csse_covid_19_daily_reports/*.csv', recursive=True)\n",
    "\n",
    "df = pd.DataFrame()\n",
    "for f in file_list:\n",
    "    rawdata = open(f, 'rb').read()\n",
    "    result = chardet.detect(rawdata)\n",
    "    charenc = result['encoding']\n",
    "\n",
    "    df_temp = pd.read_csv(f, engine='python', delimiter=',', quotechar='\"', encoding=charenc, infer_datetime_format=True)\n",
    "\n",
    "    # if \"Last Update\" in df_temp.columns:\n",
    "    df_temp.rename(columns={'Last Update': 'Last_Update', 'Latitude': 'Lat', 'Longitude': 'Long_', 'Province/State': 'Province_State', 'Country/Region': 'Country_Region'}, inplace=True)\n",
    "    cols = df_temp.columns\n",
    "    # if len(cols) == 1:\n",
    "    #     print(df_temp.head())\n",
    "    if (\"Lat\" or \"Long_\") not in cols:\n",
    "        df_temp['Lat'] = np.nan\n",
    "        df_temp['Long_'] = np.nan\n",
    "    if \"Combined_Key\" not in cols:\n",
    "        df_temp['Combined_Key'] = np.nan\n",
    "    df = df.append(df_temp, ignore_index=True)\n",
    "\n",
    "# print('Here')\n",
    "\n",
    "# df['Last_Update'] = pd.to_datetime(df['Last_Update'],errors='raise', utc=True, infer_datetime_format=True)\n",
    "\n",
    "# a = cn(df)\n",
    "# x = a.clean_numbers(verbose=True, rpl_empty_with='zeros', drop_na=False, exceptions=['Lat', 'Long_', 'FIPS'])\n",
    "df.head()"
   ]
  },
  {
   "cell_type": "code",
   "execution_count": 4,
   "metadata": {},
   "outputs": [
    {
     "output_type": "stream",
     "name": "stdout",
     "text": "Mem. usage decreased to 6.31 MB (22.9 % reduction) for a savings of 1.88 MB\n"
    },
    {
     "output_type": "execute_result",
     "data": {
      "text/plain": "  Province_State  Country_Region  Last_Update  Confirmed  Deaths  Recovered  \\\n0          Hubei  Mainland China          NaN      62662    2144      11881   \n1      Guangdong  Mainland China          NaN       1333       5        690   \n2          Henan  Mainland China          NaN       1267      19        736   \n3       Zhejiang  Mainland China          NaN       1203       1        679   \n4          Hunan  Mainland China          NaN       1011       4        661   \n\n   Lat  Long_ Combined_Key  FIPS Admin2  Active  \n0  NaN    NaN          NaN   NaN    NaN       0  \n1  NaN    NaN          NaN   NaN    NaN       0  \n2  NaN    NaN          NaN   NaN    NaN       0  \n3  NaN    NaN          NaN   NaN    NaN       0  \n4  NaN    NaN          NaN   NaN    NaN       0  ",
      "text/html": "<div>\n<style scoped>\n    .dataframe tbody tr th:only-of-type {\n        vertical-align: middle;\n    }\n\n    .dataframe tbody tr th {\n        vertical-align: top;\n    }\n\n    .dataframe thead th {\n        text-align: right;\n    }\n</style>\n<table border=\"1\" class=\"dataframe\">\n  <thead>\n    <tr style=\"text-align: right;\">\n      <th></th>\n      <th>Province_State</th>\n      <th>Country_Region</th>\n      <th>Last_Update</th>\n      <th>Confirmed</th>\n      <th>Deaths</th>\n      <th>Recovered</th>\n      <th>Lat</th>\n      <th>Long_</th>\n      <th>Combined_Key</th>\n      <th>FIPS</th>\n      <th>Admin2</th>\n      <th>Active</th>\n    </tr>\n  </thead>\n  <tbody>\n    <tr>\n      <th>0</th>\n      <td>Hubei</td>\n      <td>Mainland China</td>\n      <td>NaN</td>\n      <td>62662</td>\n      <td>2144</td>\n      <td>11881</td>\n      <td>NaN</td>\n      <td>NaN</td>\n      <td>NaN</td>\n      <td>NaN</td>\n      <td>NaN</td>\n      <td>0</td>\n    </tr>\n    <tr>\n      <th>1</th>\n      <td>Guangdong</td>\n      <td>Mainland China</td>\n      <td>NaN</td>\n      <td>1333</td>\n      <td>5</td>\n      <td>690</td>\n      <td>NaN</td>\n      <td>NaN</td>\n      <td>NaN</td>\n      <td>NaN</td>\n      <td>NaN</td>\n      <td>0</td>\n    </tr>\n    <tr>\n      <th>2</th>\n      <td>Henan</td>\n      <td>Mainland China</td>\n      <td>NaN</td>\n      <td>1267</td>\n      <td>19</td>\n      <td>736</td>\n      <td>NaN</td>\n      <td>NaN</td>\n      <td>NaN</td>\n      <td>NaN</td>\n      <td>NaN</td>\n      <td>0</td>\n    </tr>\n    <tr>\n      <th>3</th>\n      <td>Zhejiang</td>\n      <td>Mainland China</td>\n      <td>NaN</td>\n      <td>1203</td>\n      <td>1</td>\n      <td>679</td>\n      <td>NaN</td>\n      <td>NaN</td>\n      <td>NaN</td>\n      <td>NaN</td>\n      <td>NaN</td>\n      <td>0</td>\n    </tr>\n    <tr>\n      <th>4</th>\n      <td>Hunan</td>\n      <td>Mainland China</td>\n      <td>NaN</td>\n      <td>1011</td>\n      <td>4</td>\n      <td>661</td>\n      <td>NaN</td>\n      <td>NaN</td>\n      <td>NaN</td>\n      <td>NaN</td>\n      <td>NaN</td>\n      <td>0</td>\n    </tr>\n  </tbody>\n</table>\n</div>"
     },
     "metadata": {},
     "execution_count": 4
    }
   ],
   "source": [
    "df['Last_Update'] = pd.to_datetime(df['Last_Update'], errors='raise', utc=True)\n",
    "\n",
    "a = cn(df)\n",
    "x = a.clean_numbers(verbose=True, rpl_empty_with='zeros', drop_na=False, exceptions=['Lat', 'Long_', 'FIPS'])\n",
    "x.head()"
   ]
  },
  {
   "cell_type": "code",
   "execution_count": 1,
   "metadata": {
    "tags": [
     "outputPrepend",
     "outputPrepend",
     "outputPrepend",
     "outputPrepend",
     "outputPrepend",
     "outputPrepend",
     "outputPrepend",
     "outputPrepend",
     "outputPrepend"
    ]
   },
   "outputs": [
    {
     "output_type": "stream",
     "name": "stdout",
     "text": "ngitude  \n0      55142   30.9756   112.2707  \n1       2749   41.8719    12.5674  \n2       4590   32.4279    53.6880  \n3        530   40.4637    -3.7492  \n4       1137   35.9078   127.7669  \n  Province/State  Country/Region          Last Update  Confirmed  Deaths  \\\n0          Hubei  Mainland China  2020-02-04T23:43:01      16678     479   \n1       Zhejiang  Mainland China  2020-02-04T13:03:07        829       0   \n2      Guangdong  Mainland China  2020-02-04T13:03:07        813       0   \n3          Henan  Mainland China  2020-02-04T11:53:02        675       2   \n4          Hunan  Mainland China  2020-02-04T14:03:03        593       0   \n\n   Recovered  \n0        522  \n1         62  \n2         30  \n3         27  \n4         31  \n      FIPS         Admin2 Province_State Country_Region    Last_Update  \\\n0  36061.0  New York City       New York             US  3/22/20 23:45   \n1  36059.0         Nassau       New York             US  3/22/20 23:45   \n2  36119.0    Westchester       New York             US  3/22/20 23:45   \n3  36103.0        Suffolk       New York             US  3/22/20 23:45   \n4  36087.0       Rockland       New York             US  3/22/20 23:45   \n\n         Lat      Long_  Confirmed  Deaths  Recovered  Active  \\\n0  40.767273 -73.971526       9654      63          0       0   \n1  40.740665 -73.589419       1900       4          0       0   \n2  41.162784 -73.757417       1873       0          0       0   \n3  40.883201 -72.801217       1034       9          0       0   \n4  41.150279 -74.025605        455       1          0       0   \n\n                  Combined_Key  \n0  New York City, New York, US  \n1         Nassau, New York, US  \n2    Westchester, New York, US  \n3        Suffolk, New York, US  \n4       Rockland, New York, US  \n      FIPS     Admin2  Province_State Country_Region          Last_Update  \\\n0  45001.0  Abbeville  South Carolina             US  2020-03-27 22:14:55   \n1  22001.0     Acadia       Louisiana             US  2020-03-27 22:14:55   \n2  51001.0   Accomack        Virginia             US  2020-03-27 22:14:55   \n3  16001.0        Ada           Idaho             US  2020-03-27 22:14:55   \n4  19001.0      Adair            Iowa             US  2020-03-27 22:14:55   \n\n         Lat       Long_  Confirmed  Deaths  Recovered  Active  \\\n0  34.223334  -82.461707          4       0          0       0   \n1  30.295065  -92.414197          8       1          0       0   \n2  37.767072  -75.632346          2       0          0       0   \n3  43.452658 -116.241552         54       0          0       0   \n4  41.330756  -94.471059          1       0          0       0   \n\n                    Combined_Key  \n0  Abbeville, South Carolina, US  \n1          Acadia, Louisiana, US  \n2         Accomack, Virginia, US  \n3                 Ada, Idaho, US  \n4                Adair, Iowa, US  \n  Province/State  Country/Region          Last Update  Confirmed  Deaths  \\\n0          Hubei  Mainland China  2020-02-19T23:23:02      62031    2029   \n1      Guangdong  Mainland China  2020-02-19T10:23:02       1331       5   \n2          Henan  Mainland China  2020-02-19T12:13:08       1262      19   \n3       Zhejiang  Mainland China  2020-02-19T11:33:02       1174       0   \n4          Hunan  Mainland China  2020-02-19T11:33:02       1008       4   \n\n   Recovered  \n0      10337  \n1        606  \n2        573  \n3        604  \n4        561  \n      FIPS     Admin2  Province_State Country_Region   Last_Update        Lat  \\\n0  45001.0  Abbeville  South Carolina             US  4/6/20 23:22  34.223334   \n1  22001.0     Acadia       Louisiana             US  4/6/20 23:22  30.295065   \n2  51001.0   Accomack        Virginia             US  4/6/20 23:22  37.767072   \n3  16001.0        Ada           Idaho             US  4/6/20 23:22  43.452658   \n4  19001.0      Adair            Iowa             US  4/6/20 23:22  41.330756   \n\n        Long_  Confirmed  Deaths  Recovered  Active  \\\n0  -82.461707          6       0          0       0   \n1  -92.414197         79       2          0       0   \n2  -75.632346         11       0          0       0   \n3 -116.241552        402       3          0       0   \n4  -94.471059          1       0          0       0   \n\n                    Combined_Key  \n0  Abbeville, South Carolina, US  \n1          Acadia, Louisiana, US  \n2         Accomack, Virginia, US  \n3                 Ada, Idaho, US  \n4                Adair, Iowa, US  \n      FIPS     Admin2  Province_State Country_Region          Last_Update  \\\n0  45001.0  Abbeville  South Carolina             US  2020-04-14 23:33:31   \n1  22001.0     Acadia       Louisiana             US  2020-04-14 23:33:31   \n2  51001.0   Accomack        Virginia             US  2020-04-14 23:33:31   \n3  16001.0        Ada           Idaho             US  2020-04-14 23:33:31   \n4  19001.0      Adair            Iowa             US  2020-04-14 23:33:31   \n\n         Lat       Long_  Confirmed  Deaths  Recovered  Active  \\\n0  34.223334  -82.461707          9       0          0       9   \n1  30.295065  -92.414197        104       5          0      99   \n2  37.767072  -75.632346         15       0          0      15   \n3  43.452658 -116.241552        538       9          0     529   \n4  41.330756  -94.471059          1       0          0       1   \n\n                    Combined_Key  \n0  Abbeville, South Carolina, US  \n1          Acadia, Louisiana, US  \n2         Accomack, Virginia, US  \n3                 Ada, Idaho, US  \n4                Adair, Iowa, US  \n  Province/State  Country/Region          Last Update  Confirmed  Deaths  \\\n0          Hubei  Mainland China  2020-02-20T23:43:02      62442    2144   \n1      Guangdong  Mainland China  2020-02-20T11:13:27       1332       5   \n2          Henan  Mainland China  2020-02-20T13:53:06       1265      19   \n3       Zhejiang  Mainland China  2020-02-20T11:13:27       1175       1   \n4          Hunan  Mainland China  2020-02-20T11:13:27       1010       4   \n\n   Recovered  \n0      11788  \n1        642  \n2        637  \n3        633  \n4        634  \n  Province/State  Country/Region      Last Update  Confirmed  Deaths  \\\n0          Hubei  Mainland China  1/31/2020 23:59       5806   204.0   \n1       Zhejiang  Mainland China  1/31/2020 23:59        538     NaN   \n2      Guangdong  Mainland China  1/31/2020 23:59        436     NaN   \n3          Henan  Mainland China  1/31/2020 23:59        352     2.0   \n4          Hunan  Mainland China  1/31/2020 23:59        332     NaN   \n\n   Recovered  \n0      141.0  \n1       14.0  \n2       11.0  \n3        3.0  \n4        2.0  \n  Province/State  Country/Region          Last Update  Confirmed  Deaths  \\\n0          Hubei  Mainland China  2020-02-26T14:13:10      65187    2615   \n1      Guangdong  Mainland China  2020-02-26T10:33:02       1347       7   \n2          Henan  Mainland China  2020-02-26T10:33:02       1271      19   \n3            NaN     South Korea  2020-02-26T11:03:11       1261      12   \n4       Zhejiang  Mainland China  2020-02-26T10:33:02       1205       1   \n\n   Recovered  \n0      20969  \n1        851  \n2       1033  \n3         22  \n4        867  \n  Province/State  Country/Region          Last Update  Confirmed  Deaths  \\\n0          Hubei  Mainland China  2020-02-15T23:13:05      56249    1596   \n1      Guangdong  Mainland China  2020-02-15T14:03:04       1294       2   \n2          Henan  Mainland China  2020-02-15T12:13:08       1212      13   \n3       Zhejiang  Mainland China  2020-02-15T11:23:17       1162       0   \n4          Hunan  Mainland China  2020-02-15T13:03:04       1001       2   \n\n   Recovered  \n0       5623  \n1        410  \n2        391  \n3        428  \n4        425  \n  Province/State  Country/Region    Last Update  Confirmed  Deaths  Recovered\n0          Hubei  Mainland China  1/25/20 17:00        761    40.0       32.0\n1      Guangdong  Mainland China  1/25/20 17:00         78     NaN        2.0\n2       Zhejiang  Mainland China  1/25/20 17:00         62     NaN        1.0\n3      Chongqing  Mainland China  1/25/20 17:00         57     NaN        NaN\n4          Hunan  Mainland China  1/25/20 17:00         43     NaN        NaN\n      FIPS     Admin2  Province_State Country_Region          Last_Update  \\\n0  45001.0  Abbeville  South Carolina             US  2020-04-17 23:30:52   \n1  22001.0     Acadia       Louisiana             US  2020-04-17 23:30:52   \n2  51001.0   Accomack        Virginia             US  2020-04-17 23:30:52   \n3  16001.0        Ada           Idaho             US  2020-04-17 23:30:52   \n4  19001.0      Adair            Iowa             US  2020-04-17 23:30:52   \n\n         Lat       Long_  Confirmed  Deaths  Recovered  Active  \\\n0  34.223334  -82.461707         10       0          0      10   \n1  30.295065  -92.414197        110       6          0     104   \n2  37.767072  -75.632346         28       0          0      28   \n3  43.452658 -116.241552        576       9          0     567   \n4  41.330756  -94.471059          1       0          0       1   \n\n                    Combined_Key  \n0  Abbeville, South Carolina, US  \n1          Acadia, Louisiana, US  \n2         Accomack, Virginia, US  \n3                 Ada, Idaho, US  \n4                Adair, Iowa, US  \n  Province/State Country/Region          Last Update  Confirmed  Deaths  \\\n0          Hubei          China  2020-03-19T10:13:14      67800    3130   \n1            NaN          Italy  2020-03-19T17:43:03      41035    3405   \n2            NaN           Iran  2020-03-19T11:33:29      18407    1284   \n3            NaN          Spain  2020-03-19T20:13:08      17963     830   \n4            NaN        Germany  2020-03-19T20:13:08      15320      44   \n\n   Recovered  Latitude  Longitude  \n0      57682   30.9756   112.2707  \n1       4440   41.8719    12.5674  \n2       5710   32.4279    53.6880  \n3       1107   40.4637    -3.7492  \n4        113   51.1657    10.4515  \n  Province/State  Country/Region          Last Update  Confirmed  Deaths  \\\n0          Hubei  Mainland China  2020-03-01T10:13:19      66907    2761   \n1            NaN     South Korea  2020-03-01T23:43:03       3736      17   \n2            NaN           Italy  2020-03-01T23:23:02       1694      34   \n3      Guangdong  Mainland China  2020-03-01T14:13:18       1349       7   \n4          Henan  Mainland China  2020-03-01T14:13:18       1272      22   \n\n   Recovered  Latitude  Longitude  \n0      31536   30.9756   112.2707  \n1         30   36.0000   128.0000  \n2         83   43.0000    12.0000  \n3       1016   23.3417   113.4244  \n4       1198   33.8820   113.6140  \n  Province/State  Country/Region          Last Update  Confirmed  Deaths  \\\n0          Hubei  Mainland China  2020-02-23T11:33:03      64084    2346   \n1      Guangdong  Mainland China  2020-02-23T08:53:02       1342       6   \n2          Henan  Mainland China  2020-02-23T10:23:02       1271      19   \n3       Zhejiang  Mainland China  2020-02-23T13:43:02       1205       1   \n4          Hunan  Mainland China  2020-02-23T10:33:03       1016       4   \n\n   Recovered  \n0      15343  \n1        755  \n2        868  \n3        760  \n4        714  \n  Province/State  Country/Region          Last Update  Confirmed  Deaths  \\\n0          Hubei  Mainland China  2020-03-07T11:13:04      67666    2959   \n1            NaN     South Korea  2020-03-07T10:13:22       7041      44   \n2            NaN           Italy  2020-03-07T17:33:03       5883     233   \n3            NaN            Iran  2020-03-07T17:43:05       5823     145   \n4      Guangdong  Mainland China  2020-03-07T10:43:02       1352       7   \n\n   Recovered  Latitude  Longitude  \n0      43500   30.9756   112.2707  \n1        135   36.0000   128.0000  \n2        589   43.0000    12.0000  \n3       1669   32.0000    53.0000  \n4       1237   23.3417   113.4244  \n      FIPS     Admin2  Province_State Country_Region          Last_Update  \\\n0  45001.0  Abbeville  South Carolina             US  2020-04-15 22:56:51   \n1  22001.0     Acadia       Louisiana             US  2020-04-15 22:56:51   \n2  51001.0   Accomack        Virginia             US  2020-04-15 22:56:51   \n3  16001.0        Ada           Idaho             US  2020-04-15 22:56:51   \n4  19001.0      Adair            Iowa             US  2020-04-15 22:56:51   \n\n         Lat       Long_  Confirmed  Deaths  Recovered  Active  \\\n0  34.223334  -82.461707         10       0          0      10   \n1  30.295065  -92.414197        105       5          0     100   \n2  37.767072  -75.632346         15       0          0      15   \n3  43.452658 -116.241552        538       9          0     529   \n4  41.330756  -94.471059          1       0          0       1   \n\n                    Combined_Key  \n0  Abbeville, South Carolina, US  \n1          Acadia, Louisiana, US  \n2         Accomack, Virginia, US  \n3                 Ada, Idaho, US  \n4                Adair, Iowa, US  \n  Province/State  Country/Region          Last Update  Confirmed  Deaths  \\\n0          Hubei  Mainland China  2020-03-05T14:53:03      67466    2902   \n1            NaN     South Korea  2020-03-05T09:03:09       6088      35   \n2            NaN           Italy  2020-03-05T17:43:03       3858     148   \n3            NaN            Iran  2020-03-05T13:43:04       3513     107   \n4      Guangdong  Mainland China  2020-03-05T09:23:03       1351       7   \n\n   Recovered  Latitude  Longitude  \n0      40592   30.9756   112.2707  \n1         41   36.0000   128.0000  \n2        414   43.0000    12.0000  \n3        739   32.0000    53.0000  \n4       1181   23.3417   113.4244  \n  Province/State  Country/Region          Last Update  Confirmed  Deaths  \\\n0          Hubei  Mainland China  2020-02-13T14:13:06      48206    1310   \n1      Guangdong  Mainland China  2020-02-13T13:33:01       1241       2   \n2          Henan  Mainland China  2020-02-13T14:53:02       1169      10   \n3       Zhejiang  Mainland China  2020-02-13T14:13:06       1145       0   \n4          Hunan  Mainland China  2020-02-13T11:53:02        968       2   \n\n   Recovered  \n0       3459  \n1        314  \n2        296  \n3        360  \n4        339  \n  Province/State Country/Region          Last Update  Confirmed  Deaths  \\\n0          Hubei          China  2020-03-11T10:53:02      67773    3046   \n1            NaN          Italy  2020-03-11T21:33:02      12462     827   \n2            NaN           Iran  2020-03-11T18:52:03       9000     354   \n3            NaN   Korea, South  2020-03-11T21:13:18       7755      60   \n4         France         France  2020-03-11T22:53:03       2281      48   \n\n   Recovered  Latitude  Longitude  \n0      49134   30.9756   112.2707  \n1       1045   43.0000    12.0000  \n2       2959   32.0000    53.0000  \n3        288   36.0000   128.0000  \n4         12   46.2276     2.2137  \n  Province/State Country/Region          Last Update  Confirmed  Deaths  \\\n0          Hubei          China  2020-03-21T10:13:08      67800    3139   \n1            NaN          Italy  2020-03-21T17:43:03      53578    4825   \n2            NaN          Spain  2020-03-21T13:13:30      25374    1375   \n3            NaN        Germany  2020-03-21T20:43:02      22213      84   \n4            NaN           Iran  2020-03-21T11:13:12      20610    1556   \n\n   Recovered  Latitude  Longitude  \n0      58946   30.9756   112.2707  \n1       6072   41.8719    12.5674  \n2       2125   40.4637    -3.7492  \n3        233   51.1657    10.4515  \n4       7635   32.4279    53.6880  \n  Province/State  Country/Region          Last Update  Confirmed  Deaths  \\\n0          Hubei  Mainland China  2020-02-12T14:13:08      33366    1068   \n1      Guangdong  Mainland China  2020-02-12T12:23:09       1219       1   \n2          Henan  Mainland China  2020-02-12T14:13:08       1135       8   \n3       Zhejiang  Mainland China  2020-02-12T10:13:20       1131       0   \n4          Hunan  Mainland China  2020-02-12T12:43:03        946       2   \n\n   Recovered  \n0       2686  \n1        275  \n2        246  \n3        321  \n4        304  \n  Province/State  Country/Region          Last Update  Confirmed  Deaths  \\\n0          Hubei  Mainland China  2020-02-27T12:13:14      65596    2641   \n1            NaN     South Korea  2020-02-27T12:03:04       1766      13   \n2      Guangdong  Mainland China  2020-02-27T09:53:02       1347       7   \n3          Henan  Mainland China  2020-02-27T15:03:11       1272      20   \n4       Zhejiang  Mainland China  2020-02-27T12:43:02       1205       1   \n\n   Recovered  \n0      23383  \n1         22  \n2        890  \n3       1068  \n4        932  \n  Province/State  Country/Region          Last Update  Confirmed  Deaths  \\\n0          Hubei  Mainland China  2020-02-29T12:13:10      66337    2727   \n1            NaN     South Korea  2020-02-29T18:13:07       3150      16   \n2      Guangdong  Mainland China  2020-02-29T15:33:03       1349       7   \n3          Henan  Mainland China  2020-02-29T12:43:05       1272      21   \n4       Zhejiang  Mainland China  2020-02-29T09:13:10       1205       1   \n\n   Recovered  \n0      28993  \n1         27  \n2        983  \n3       1170  \n4       1016  \n  Province/State  Country/Region          Last Update  Confirmed  Deaths  \\\n0          Hubei  Mainland China  2020-02-14T23:33:02      54406    1457   \n1      Guangdong  Mainland China  2020-02-14T12:53:02       1261       2   \n2          Henan  Mainland China  2020-02-14T12:53:02       1184      11   \n3       Zhejiang  Mainland China  2020-02-14T14:13:15       1155       0   \n4          Hunan  Mainland China  2020-02-14T09:23:04        988       2   \n\n   Recovered  \n0       4774  \n1        362  \n2        357  \n3        403  \n4        364  \n  Province/State  Country/Region          Last Update  Confirmed  Deaths  \\\n0          Hubei  Mainland China  2020-02-08T23:33:06      27100     780   \n1      Guangdong  Mainland China  2020-02-08T11:53:01       1095       1   \n2       Zhejiang  Mainland China  2020-02-08T10:53:02       1048       0   \n3          Henan  Mainland China  2020-02-08T14:13:12        981       4   \n4          Hunan  Mainland China  2020-02-08T12:53:01        803       1   \n\n   Recovered  \n0       1439  \n1        112  \n2        175  \n3        116  \n4        156  \n  Province/State  Country/Region          Last Update  Confirmed  Deaths  \\\n0          Hubei  Mainland China  2020-03-04T12:53:03      67332    2871   \n1            NaN     South Korea  2020-03-04T19:23:03       5621      35   \n2            NaN           Italy  2020-03-04T19:23:03       3089     107   \n3            NaN            Iran  2020-03-04T12:33:03       2922      92   \n4      Guangdong  Mainland China  2020-03-04T10:03:19       1350       7   \n\n   Recovered  Latitude  Longitude  \n0      38557   30.9756   112.2707  \n1         41   36.0000   128.0000  \n2        276   43.0000    12.0000  \n3        552   32.0000    53.0000  \n4       1133   23.3417   113.4244  \n  Province/State  Country/Region          Last Update  Confirmed  Deaths  \\\n0          Hubei  Mainland China  2020-03-09T14:33:03      67743    3008   \n1            NaN           Italy  2020-03-09T18:13:11       9172     463   \n2            NaN     South Korea  2020-03-09T09:03:03       7478      53   \n3            NaN            Iran  2020-03-09T10:53:03       7161     237   \n4      Guangdong  Mainland China  2020-03-09T01:43:01       1352       8   \n\n   Recovered  Latitude  Longitude  \n0      46488   30.9756   112.2707  \n1        724   43.0000    12.0000  \n2        118   36.0000   128.0000  \n3       2394   32.0000    53.0000  \n4       1260   23.3417   113.4244  \n  Province/State  Country/Region          Last Update  Confirmed  Deaths  \\\n0          Hubei  Mainland China  2020-02-22T23:33:06      64084    2346   \n1      Guangdong  Mainland China  2020-02-22T10:03:04       1339       5   \n2          Henan  Mainland China  2020-02-22T14:13:38       1270      19   \n3       Zhejiang  Mainland China  2020-02-22T11:13:13       1205       1   \n4          Hunan  Mainland China  2020-02-22T10:03:04       1013       4   \n\n   Recovered  \n0      15299  \n1        728  \n2        830  \n3        719  \n4        692  \n"
    }
   ],
   "source": [
    "import os\n",
    "\n",
    "import chardet\n",
    "import numpy as np\n",
    "import pandas as pd\n",
    "import zipfile\n",
    "from cleannumbers import CleanNumbers as cn\n",
    "from cleantext import CleanText as ct\n",
    "\n",
    "import glob\n",
    "\n",
    "file_list = glob.glob('../../COVID-19-ALL/csse_covid_19_data/csse_covid_19_daily_reports/*.csv', recursive=True)\n",
    "processed = glob.glob('../../COVID-19-ALL/csse_covid_19_data/*processed/*.csv')\n",
    "\n",
    "\n",
    "# cwd = os.getcwd()\n",
    "# print(cwd)\n",
    "# processed = os.chdir('../../COVID-19-ALL/csse_covid_19_data')\n",
    "# processed = os.getcwd()\n",
    "# print(processed)\n",
    "\n",
    "# df = pd.DataFrame()\n",
    "for f in file_list:\n",
    "    rawdata = open(f, 'rb').read()\n",
    "    result = chardet.detect(rawdata)\n",
    "    charenc = result['encoding']\n",
    "\n",
    "    df_temp = pd.read_csv(f, engine='python', encoding=charenc)\n",
    "    print(df_temp.head())"
   ]
  }
 ]
}