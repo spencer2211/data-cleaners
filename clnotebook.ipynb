{
 "nbformat": 4,
 "nbformat_minor": 2,
 "metadata": {
  "language_info": {
   "name": "python",
   "codemirror_mode": {
    "name": "ipython",
    "version": 3
   },
   "version": "3.8.2-final"
  },
  "orig_nbformat": 2,
  "file_extension": ".py",
  "mimetype": "text/x-python",
  "name": "python",
  "npconvert_exporter": "python",
  "pygments_lexer": "ipython3",
  "version": 3,
  "kernelspec": {
   "name": "python3",
   "display_name": "Python 3"
  }
 },
 "cells": [
  {
   "cell_type": "code",
   "execution_count": 3,
   "metadata": {},
   "outputs": [
    {
     "output_type": "stream",
     "name": "stdout",
     "text": "['../datasets/sudeste.csv.zip']\n"
    },
    {
     "output_type": "execute_result",
     "data": {
      "text/plain": "   wsid         wsnm   elvt       lat        lon  inme         city prov  \\\n0   178  SÃO GONÇALO  237.0 -6.835777 -38.311583  A333  São Gonçalo   RJ   \n1   178  SÃO GONÇALO  237.0 -6.835777 -38.311583  A333  São Gonçalo   RJ   \n2   178  SÃO GONÇALO  237.0 -6.835777 -38.311583  A333  São Gonçalo   RJ   \n3   178  SÃO GONÇALO  237.0 -6.835777 -38.311583  A333  São Gonçalo   RJ   \n4   178  SÃO GONÇALO  237.0 -6.835777 -38.311583  A333  São Gonçalo   RJ   \n\n                  mdct        date  ...  tmax  dmax  tmin  dmin  hmdy  hmax  \\\n0  2007-11-06 00:00:00  2007-11-06  ...  29.7  16.8  25.5  10.8  35.0  58.0   \n1  2007-11-06 01:00:00  2007-11-06  ...  29.9  13.6  29.0  12.2  39.0  39.0   \n2  2007-11-06 02:00:00  2007-11-06  ...  29.0  14.0  27.4  13.6  44.0  44.0   \n3  2007-11-06 03:00:00  2007-11-06  ...  27.4  16.9  25.8  14.1  58.0  58.0   \n4  2007-11-06 04:00:00  2007-11-06  ...  26.3  17.0  25.3  16.4  57.0  58.0   \n\n   hmin  wdsp   wdct  gust  \n0  32.0   3.2  101.0   6.5  \n1  35.0   3.6   94.0   6.4  \n2  39.0   2.5   93.0   6.9  \n3  44.0   1.7   96.0   5.8  \n4  56.0   3.1  110.0   7.5  \n\n[5 rows x 31 columns]",
      "text/html": "<div>\n<style scoped>\n    .dataframe tbody tr th:only-of-type {\n        vertical-align: middle;\n    }\n\n    .dataframe tbody tr th {\n        vertical-align: top;\n    }\n\n    .dataframe thead th {\n        text-align: right;\n    }\n</style>\n<table border=\"1\" class=\"dataframe\">\n  <thead>\n    <tr style=\"text-align: right;\">\n      <th></th>\n      <th>wsid</th>\n      <th>wsnm</th>\n      <th>elvt</th>\n      <th>lat</th>\n      <th>lon</th>\n      <th>inme</th>\n      <th>city</th>\n      <th>prov</th>\n      <th>mdct</th>\n      <th>date</th>\n      <th>...</th>\n      <th>tmax</th>\n      <th>dmax</th>\n      <th>tmin</th>\n      <th>dmin</th>\n      <th>hmdy</th>\n      <th>hmax</th>\n      <th>hmin</th>\n      <th>wdsp</th>\n      <th>wdct</th>\n      <th>gust</th>\n    </tr>\n  </thead>\n  <tbody>\n    <tr>\n      <th>0</th>\n      <td>178</td>\n      <td>SÃO GONÇALO</td>\n      <td>237.0</td>\n      <td>-6.835777</td>\n      <td>-38.311583</td>\n      <td>A333</td>\n      <td>São Gonçalo</td>\n      <td>RJ</td>\n      <td>2007-11-06 00:00:00</td>\n      <td>2007-11-06</td>\n      <td>...</td>\n      <td>29.7</td>\n      <td>16.8</td>\n      <td>25.5</td>\n      <td>10.8</td>\n      <td>35.0</td>\n      <td>58.0</td>\n      <td>32.0</td>\n      <td>3.2</td>\n      <td>101.0</td>\n      <td>6.5</td>\n    </tr>\n    <tr>\n      <th>1</th>\n      <td>178</td>\n      <td>SÃO GONÇALO</td>\n      <td>237.0</td>\n      <td>-6.835777</td>\n      <td>-38.311583</td>\n      <td>A333</td>\n      <td>São Gonçalo</td>\n      <td>RJ</td>\n      <td>2007-11-06 01:00:00</td>\n      <td>2007-11-06</td>\n      <td>...</td>\n      <td>29.9</td>\n      <td>13.6</td>\n      <td>29.0</td>\n      <td>12.2</td>\n      <td>39.0</td>\n      <td>39.0</td>\n      <td>35.0</td>\n      <td>3.6</td>\n      <td>94.0</td>\n      <td>6.4</td>\n    </tr>\n    <tr>\n      <th>2</th>\n      <td>178</td>\n      <td>SÃO GONÇALO</td>\n      <td>237.0</td>\n      <td>-6.835777</td>\n      <td>-38.311583</td>\n      <td>A333</td>\n      <td>São Gonçalo</td>\n      <td>RJ</td>\n      <td>2007-11-06 02:00:00</td>\n      <td>2007-11-06</td>\n      <td>...</td>\n      <td>29.0</td>\n      <td>14.0</td>\n      <td>27.4</td>\n      <td>13.6</td>\n      <td>44.0</td>\n      <td>44.0</td>\n      <td>39.0</td>\n      <td>2.5</td>\n      <td>93.0</td>\n      <td>6.9</td>\n    </tr>\n    <tr>\n      <th>3</th>\n      <td>178</td>\n      <td>SÃO GONÇALO</td>\n      <td>237.0</td>\n      <td>-6.835777</td>\n      <td>-38.311583</td>\n      <td>A333</td>\n      <td>São Gonçalo</td>\n      <td>RJ</td>\n      <td>2007-11-06 03:00:00</td>\n      <td>2007-11-06</td>\n      <td>...</td>\n      <td>27.4</td>\n      <td>16.9</td>\n      <td>25.8</td>\n      <td>14.1</td>\n      <td>58.0</td>\n      <td>58.0</td>\n      <td>44.0</td>\n      <td>1.7</td>\n      <td>96.0</td>\n      <td>5.8</td>\n    </tr>\n    <tr>\n      <th>4</th>\n      <td>178</td>\n      <td>SÃO GONÇALO</td>\n      <td>237.0</td>\n      <td>-6.835777</td>\n      <td>-38.311583</td>\n      <td>A333</td>\n      <td>São Gonçalo</td>\n      <td>RJ</td>\n      <td>2007-11-06 04:00:00</td>\n      <td>2007-11-06</td>\n      <td>...</td>\n      <td>26.3</td>\n      <td>17.0</td>\n      <td>25.3</td>\n      <td>16.4</td>\n      <td>57.0</td>\n      <td>58.0</td>\n      <td>56.0</td>\n      <td>3.1</td>\n      <td>110.0</td>\n      <td>7.5</td>\n    </tr>\n  </tbody>\n</table>\n<p>5 rows × 31 columns</p>\n</div>"
     },
     "metadata": {},
     "execution_count": 3
    }
   ],
   "source": [
    "import numpy as np\n",
    "import pandas as pd\n",
    "import zipfile\n",
    "from cleantext import CleanText as ct\n",
    "\n",
    "import glob\n",
    "\n",
    "data_file = glob.glob('../**/sudeste.csv.zip', recursive=True)\n",
    "print(data_file)\n",
    "\n",
    "data = pd.read_csv(data_file[0],\n",
    "                  compression='zip',\n",
    "                  engine='python',\n",
    "                  index_col=False,\n",
    "                  nrows=1000)\n",
    "\n",
    "data.head()"
   ]
  },
  {
   "cell_type": "code",
   "execution_count": 2,
   "metadata": {
    "tags": [
     "outputPrepend"
    ]
   },
   "outputs": [
    {
     "output_type": "stream",
     "name": "stdout",
     "text": "Mem. usage decreased to 87.74 MB (62.9 % reduction) for a savings of 148.77\n<class 'pandas.core.frame.DataFrame'>\nRangeIndex: 1000000 entries, 0 to 999999\nData columns (total 31 columns):\n #   Column  Non-Null Count    Dtype  \n---  ------  --------------    -----  \n 0   wsid    1000000 non-null  int16  \n 1   wsnm    1000000 non-null  object \n 2   elvt    1000000 non-null  int16  \n 3   lat     1000000 non-null  float16\n 4   lon     1000000 non-null  float16\n 5   inme    1000000 non-null  object \n 6   city    1000000 non-null  object \n 7   prov    1000000 non-null  object \n 8   mdct    1000000 non-null  object \n 9   date    1000000 non-null  object \n 10  yr      1000000 non-null  int16  \n 11  mo      1000000 non-null  int8   \n 12  da      1000000 non-null  int8   \n 13  hr      1000000 non-null  int8   \n 14  prcp    132701 non-null   float16\n 15  stp     1000000 non-null  float16\n 16  smax    1000000 non-null  float16\n 17  smin    1000000 non-null  float16\n 18  gbrd    576669 non-null   float16\n 19  temp    1000000 non-null  float16\n 20  dewp    999987 non-null   float16\n 21  tmax    1000000 non-null  float16\n 22  dmax    999996 non-null   float16\n 23  tmin    1000000 non-null  float16\n 24  dmin    999975 non-null   float16\n 25  hmdy    1000000 non-null  int8   \n 26  hmax    1000000 non-null  int8   \n 27  hmin    1000000 non-null  int8   \n 28  wdsp    978233 non-null   float16\n 29  wdct    1000000 non-null  int16  \n 30  gust    995194 non-null   float16\ndtypes: float16(15), int16(4), int8(6), object(6)\nmemory usage: 87.7+ MB\n"
    }
   ],
   "source": [
    "import decimal\n",
    "from cleannumbers import CleanNumbers as cn\n",
    "\n",
    "a = cn()\n",
    "# d = data.to_dict('records')\n",
    "# f = pd.DataFrame(d)\n",
    "# e = f.tmax.astype(str)\n",
    "# z = pd.to_numeric(e, downcast='integer')\n",
    "\n",
    "# test = pd.Series(['1.0', '2.0', '3point0'])\n",
    "# test = pd.to_numeric(test, errors='ignore')\n",
    "# test\n",
    "\n",
    "\n",
    "\n",
    "# def is_number(s):\n",
    "#     try:\n",
    "#         float(s)\n",
    "#         return True\n",
    "#     except ValueError:\n",
    "#         pass\n",
    " \n",
    "#     try:\n",
    "#         import unicodedata\n",
    "#         unicodedata.numeric(s)\n",
    "#         return True\n",
    "#     except (TypeError, ValueError):\n",
    "#         pass\n",
    "\n",
    "#     return False\n",
    "\n",
    "# test = estr.apply(lambda x: is_number(x)).all()\n",
    "\n",
    "# if test:\n",
    "#     print('here')\n",
    "#     estr = estr.astype(np.float64)\n",
    "# else:\n",
    "#     print('fuck\n",
    "\n",
    "g = a.clean_numbers(data, verbose=True)\n",
    "g.info()\n",
    "# pd.to_numeric(f.tmax, downcast='integer')\n",
    ""
   ]
  },
  {
   "cell_type": "code",
   "execution_count": 16,
   "metadata": {},
   "outputs": [
    {
     "output_type": "stream",
     "name": "stdout",
     "text": "<class 'pandas.core.frame.DataFrame'>\nRangeIndex: 100000 entries, 0 to 99999\nData columns (total 31 columns):\n #   Column  Non-Null Count   Dtype  \n---  ------  --------------   -----  \n 0   wsid    100000 non-null  int64  \n 1   wsnm    100000 non-null  object \n 2   elvt    100000 non-null  float64\n 3   lat     100000 non-null  float64\n 4   lon     100000 non-null  float64\n 5   inme    100000 non-null  object \n 6   city    100000 non-null  object \n 7   prov    100000 non-null  object \n 8   mdct    100000 non-null  object \n 9   date    100000 non-null  object \n 10  yr      100000 non-null  int64  \n 11  mo      100000 non-null  int64  \n 12  da      100000 non-null  int64  \n 13  hr      100000 non-null  int64  \n 14  prcp    14882 non-null   float64\n 15  stp     100000 non-null  float64\n 16  smax    100000 non-null  float64\n 17  smin    100000 non-null  float64\n 18  gbrd    58027 non-null   float64\n 19  temp    100000 non-null  float64\n 20  dewp    100000 non-null  float64\n 21  tmax    100000 non-null  float64\n 22  dmax    100000 non-null  float64\n 23  tmin    100000 non-null  float64\n 24  dmin    100000 non-null  float64\n 25  hmdy    100000 non-null  float64\n 26  hmax    100000 non-null  float64\n 27  hmin    100000 non-null  float64\n 28  wdsp    89867 non-null   float64\n 29  wdct    100000 non-null  float64\n 30  gust    97494 non-null   float64\ndtypes: float64(20), int64(5), object(6)\nmemory usage: 23.7+ MB\n"
    }
   ],
   "source": [
    "s = pd.Series([1, 2.1, 3.333, ''])\n",
    "s.replace('', np.nan, inplace=True)\n",
    "s_avg = s.mean())\n",
    "s.fillna(s_avg, inplace=True, downcast='infer')\n",
    "\n"
   ]
  },
  {
   "cell_type": "code",
   "execution_count": 1,
   "metadata": {},
   "outputs": [
    {
     "output_type": "stream",
     "name": "stdout",
     "text": "Mem. usage decreased to 0.12 MB (50.8 % reduction) for a savings of 0.12 MB\n178\nnan\n237\n"
    },
    {
     "output_type": "error",
     "ename": "AttributeError",
     "evalue": "'float' object has no attribute 'round'",
     "traceback": [
      "\u001b[0;31m---------------------------------------------------------------------------\u001b[0m",
      "\u001b[0;31mAttributeError\u001b[0m                            Traceback (most recent call last)",
      "\u001b[0;32m<ipython-input-1-da558562dd92>\u001b[0m in \u001b[0;36m<module>\u001b[0;34m\u001b[0m\n\u001b[1;32m     28\u001b[0m \u001b[0;31m# d['first'].loc[d['first'].str.contains('/', na=False)]\u001b[0m\u001b[0;34m\u001b[0m\u001b[0;34m\u001b[0m\u001b[0;34m\u001b[0m\u001b[0m\n\u001b[1;32m     29\u001b[0m \u001b[0;34m\u001b[0m\u001b[0m\n\u001b[0;32m---> 30\u001b[0;31m \u001b[0mx\u001b[0m \u001b[0;34m=\u001b[0m \u001b[0ma\u001b[0m\u001b[0;34m.\u001b[0m\u001b[0mclean_numbers\u001b[0m\u001b[0;34m(\u001b[0m\u001b[0mverbose\u001b[0m\u001b[0;34m=\u001b[0m\u001b[0;32mTrue\u001b[0m\u001b[0;34m,\u001b[0m \u001b[0mreplace_with\u001b[0m\u001b[0;34m=\u001b[0m\u001b[0;34m'median'\u001b[0m\u001b[0;34m)\u001b[0m\u001b[0;34m\u001b[0m\u001b[0;34m\u001b[0m\u001b[0m\n\u001b[0m\u001b[1;32m     31\u001b[0m \u001b[0mz\u001b[0m \u001b[0;34m=\u001b[0m \u001b[0mb\u001b[0m\u001b[0;34m.\u001b[0m\u001b[0mclean_web_text\u001b[0m\u001b[0;34m(\u001b[0m\u001b[0mx\u001b[0m\u001b[0;34m)\u001b[0m\u001b[0;34m\u001b[0m\u001b[0;34m\u001b[0m\u001b[0m\n\u001b[1;32m     32\u001b[0m \u001b[0mz\u001b[0m\u001b[0;34m.\u001b[0m\u001b[0mhead\u001b[0m\u001b[0;34m(\u001b[0m\u001b[0;34m)\u001b[0m\u001b[0;34m\u001b[0m\u001b[0;34m\u001b[0m\u001b[0m\n",
      "\u001b[0;32m~/workspace/mypymods/cleaners/cleannumbers.py\u001b[0m in \u001b[0;36mclean_numbers\u001b[0;34m(self, verbose, replace_with)\u001b[0m\n\u001b[1;32m    126\u001b[0m         \u001b[0mself\u001b[0m\u001b[0;34m.\u001b[0m\u001b[0mnumbers\u001b[0m \u001b[0;34m=\u001b[0m \u001b[0mself\u001b[0m\u001b[0;34m.\u001b[0m\u001b[0mmemory_redux\u001b[0m\u001b[0;34m(\u001b[0m\u001b[0mself\u001b[0m\u001b[0;34m.\u001b[0m\u001b[0mdata\u001b[0m\u001b[0;34m,\u001b[0m \u001b[0mself\u001b[0m\u001b[0;34m.\u001b[0m\u001b[0mverbose\u001b[0m\u001b[0;34m)\u001b[0m\u001b[0;34m\u001b[0m\u001b[0;34m\u001b[0m\u001b[0m\n\u001b[1;32m    127\u001b[0m         \u001b[0;32mif\u001b[0m \u001b[0mreplace_with\u001b[0m \u001b[0;34m!=\u001b[0m \u001b[0;34m'NaN'\u001b[0m\u001b[0;34m:\u001b[0m\u001b[0;34m\u001b[0m\u001b[0;34m\u001b[0m\u001b[0m\n\u001b[0;32m--> 128\u001b[0;31m             \u001b[0mself\u001b[0m\u001b[0;34m.\u001b[0m\u001b[0mnumbers\u001b[0m \u001b[0;34m=\u001b[0m \u001b[0mself\u001b[0m\u001b[0;34m.\u001b[0m\u001b[0m_fill_missing\u001b[0m\u001b[0;34m(\u001b[0m\u001b[0mself\u001b[0m\u001b[0;34m.\u001b[0m\u001b[0mnumbers\u001b[0m\u001b[0;34m,\u001b[0m \u001b[0mreplace_with\u001b[0m\u001b[0;34m)\u001b[0m\u001b[0;34m\u001b[0m\u001b[0;34m\u001b[0m\u001b[0m\n\u001b[0m\u001b[1;32m    129\u001b[0m \u001b[0;34m\u001b[0m\u001b[0m\n\u001b[1;32m    130\u001b[0m         \u001b[0;32mreturn\u001b[0m \u001b[0mself\u001b[0m\u001b[0;34m.\u001b[0m\u001b[0mnumbers\u001b[0m\u001b[0;34m\u001b[0m\u001b[0;34m\u001b[0m\u001b[0m\n",
      "\u001b[0;32m~/workspace/mypymods/cleaners/cleannumbers.py\u001b[0m in \u001b[0;36m_fill_missing\u001b[0;34m(self, miss, replace_with)\u001b[0m\n\u001b[1;32m     62\u001b[0m             elif (replace_with == 'median'\n\u001b[1;32m     63\u001b[0m                     and miss[col].dtypes != 'object'):\n\u001b[0;32m---> 64\u001b[0;31m                 \u001b[0mm\u001b[0m \u001b[0;34m=\u001b[0m \u001b[0mmiss\u001b[0m\u001b[0;34m[\u001b[0m\u001b[0mcol\u001b[0m\u001b[0;34m]\u001b[0m\u001b[0;34m.\u001b[0m\u001b[0mmedian\u001b[0m\u001b[0;34m(\u001b[0m\u001b[0;34m)\u001b[0m\u001b[0;34m.\u001b[0m\u001b[0mround\u001b[0m\u001b[0;34m(\u001b[0m\u001b[0;34m)\u001b[0m\u001b[0;34m.\u001b[0m\u001b[0mastype\u001b[0m\u001b[0;34m(\u001b[0m\u001b[0mmiss\u001b[0m\u001b[0;34m[\u001b[0m\u001b[0mcol\u001b[0m\u001b[0;34m]\u001b[0m\u001b[0;34m.\u001b[0m\u001b[0mdtypes\u001b[0m\u001b[0;34m)\u001b[0m\u001b[0;34m\u001b[0m\u001b[0;34m\u001b[0m\u001b[0m\n\u001b[0m\u001b[1;32m     65\u001b[0m                 \u001b[0;31m# m = m.astype(miss[col].dtypes)\u001b[0m\u001b[0;34m\u001b[0m\u001b[0;34m\u001b[0m\u001b[0;34m\u001b[0m\u001b[0m\n\u001b[1;32m     66\u001b[0m             elif (replace_with == 'zero'\n",
      "\u001b[0;31mAttributeError\u001b[0m: 'float' object has no attribute 'round'"
     ]
    }
   ],
   "source": [
    "import numpy as np\n",
    "import pandas as pd\n",
    "import zipfile\n",
    "from cleannumbers import CleanNumbers as cn\n",
    "from cleantext import CleanText as ct\n",
    "\n",
    "import glob\n",
    "\n",
    "data_file = glob.glob('../**/sudeste.csv.zip', recursive=True)\n",
    "data_f = pd.read_csv(data_file[0], compression='zip', engine='python', index_col=False, nrows=1000)\n",
    "a = cn(data_f)\n",
    "b = ct()\n",
    "\n",
    "# d = pd.DataFrame([{'first': 1, 'second': '1254/999999', 'third': 3, 'forth': 'text1'},\n",
    "#                   {'first': '1/2', 'second': 2.0, 'third': '3.3', 'forth': ''}])\n",
    "                  \n",
    "# a = cn(d)\n",
    "# n = np.float64(1.1)\n",
    "# n = n.astype(np.float16))\n",
    "\n",
    "# frac = a.frac_to_float('1/2')\n",
    "# no_frac = '1/2'\n",
    "# print(frac)\n",
    "# num, denom = no_frac.split('/')\n",
    "# print(num)\n",
    "# print(denom)\n",
    "# d['first'].str.contains('/').any()\n",
    "# d['first'].loc[d['first'].str.contains('/', na=False)]\n",
    "\n",
    "x = a.clean_numbers(verbose=True, replace_with='median')\n",
    "z = b.clean_web_text(x)\n",
    "z.head()"
   ]
  }
 ]
}